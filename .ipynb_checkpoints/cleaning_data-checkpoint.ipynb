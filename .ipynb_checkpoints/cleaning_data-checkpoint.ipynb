{
 "cells": [
  {
   "cell_type": "code",
   "execution_count": 17,
   "metadata": {},
   "outputs": [
    {
     "name": "stdout",
     "output_type": "stream",
     "text": [
      "Requirement already satisfied: pandas in c:\\users\\susan\\appdata\\local\\programs\\python\\python310\\lib\\site-packages (from -r requirements.txt (line 1)) (1.4.2)\n",
      "Requirement already satisfied: openpyxl in c:\\users\\susan\\appdata\\local\\programs\\python\\python310\\lib\\site-packages (from -r requirements.txt (line 2)) (3.0.10)\n",
      "Requirement already satisfied: sklearn in c:\\users\\susan\\appdata\\local\\programs\\python\\python310\\lib\\site-packages (from -r requirements.txt (line 3)) (0.0)\n",
      "Requirement already satisfied: plotly in c:\\users\\susan\\appdata\\local\\programs\\python\\python310\\lib\\site-packages (from -r requirements.txt (line 4)) (5.9.0)\n",
      "Requirement already satisfied: nbformat==4.2.0 in c:\\users\\susan\\appdata\\local\\programs\\python\\python310\\lib\\site-packages (from -r requirements.txt (line 5)) (4.2.0)\n",
      "Requirement already satisfied: jupyter-core in c:\\users\\susan\\appdata\\local\\programs\\python\\python310\\lib\\site-packages (from nbformat==4.2.0->-r requirements.txt (line 5)) (4.10.0)\n",
      "Requirement already satisfied: traitlets>=4.1 in c:\\users\\susan\\appdata\\local\\programs\\python\\python310\\lib\\site-packages (from nbformat==4.2.0->-r requirements.txt (line 5)) (5.1.1)\n",
      "Requirement already satisfied: ipython-genutils in c:\\users\\susan\\appdata\\local\\programs\\python\\python310\\lib\\site-packages (from nbformat==4.2.0->-r requirements.txt (line 5)) (0.2.0)\n",
      "Requirement already satisfied: jsonschema!=2.5.0,>=2.4 in c:\\users\\susan\\appdata\\local\\programs\\python\\python310\\lib\\site-packages (from nbformat==4.2.0->-r requirements.txt (line 5)) (4.7.2)\n",
      "Requirement already satisfied: numpy>=1.21.0 in c:\\users\\susan\\appdata\\local\\programs\\python\\python310\\lib\\site-packages (from pandas->-r requirements.txt (line 1)) (1.22.3)\n",
      "Requirement already satisfied: python-dateutil>=2.8.1 in c:\\users\\susan\\appdata\\local\\programs\\python\\python310\\lib\\site-packages (from pandas->-r requirements.txt (line 1)) (2.8.2)\n",
      "Requirement already satisfied: pytz>=2020.1 in c:\\users\\susan\\appdata\\local\\programs\\python\\python310\\lib\\site-packages (from pandas->-r requirements.txt (line 1)) (2021.3)\n",
      "Requirement already satisfied: et-xmlfile in c:\\users\\susan\\appdata\\local\\programs\\python\\python310\\lib\\site-packages (from openpyxl->-r requirements.txt (line 2)) (1.1.0)\n",
      "Requirement already satisfied: scikit-learn in c:\\users\\susan\\appdata\\local\\programs\\python\\python310\\lib\\site-packages (from sklearn->-r requirements.txt (line 3)) (1.1.1)\n",
      "Requirement already satisfied: tenacity>=6.2.0 in c:\\users\\susan\\appdata\\local\\programs\\python\\python310\\lib\\site-packages (from plotly->-r requirements.txt (line 4)) (8.0.1)\n",
      "Requirement already satisfied: attrs>=17.4.0 in c:\\users\\susan\\appdata\\local\\programs\\python\\python310\\lib\\site-packages (from jsonschema!=2.5.0,>=2.4->nbformat==4.2.0->-r requirements.txt (line 5)) (21.4.0)\n",
      "Requirement already satisfied: pyrsistent!=0.17.0,!=0.17.1,!=0.17.2,>=0.14.0 in c:\\users\\susan\\appdata\\local\\programs\\python\\python310\\lib\\site-packages (from jsonschema!=2.5.0,>=2.4->nbformat==4.2.0->-r requirements.txt (line 5)) (0.18.1)\n",
      "Requirement already satisfied: six>=1.5 in c:\\users\\susan\\appdata\\local\\programs\\python\\python310\\lib\\site-packages (from python-dateutil>=2.8.1->pandas->-r requirements.txt (line 1)) (1.16.0)\n",
      "Requirement already satisfied: pywin32>=1.0 in c:\\users\\susan\\appdata\\local\\programs\\python\\python310\\lib\\site-packages (from jupyter-core->nbformat==4.2.0->-r requirements.txt (line 5)) (303)\n",
      "Requirement already satisfied: scipy>=1.3.2 in c:\\users\\susan\\appdata\\local\\programs\\python\\python310\\lib\\site-packages (from scikit-learn->sklearn->-r requirements.txt (line 3)) (1.8.1)\n",
      "Requirement already satisfied: threadpoolctl>=2.0.0 in c:\\users\\susan\\appdata\\local\\programs\\python\\python310\\lib\\site-packages (from scikit-learn->sklearn->-r requirements.txt (line 3)) (3.1.0)\n",
      "Requirement already satisfied: joblib>=1.0.0 in c:\\users\\susan\\appdata\\local\\programs\\python\\python310\\lib\\site-packages (from scikit-learn->sklearn->-r requirements.txt (line 3)) (1.1.0)\n",
      "Note: you may need to restart the kernel to use updated packages.\n"
     ]
    }
   ],
   "source": [
    "%pip install -r requirements.txt"
   ]
  },
  {
   "cell_type": "code",
   "execution_count": 1,
   "metadata": {},
   "outputs": [],
   "source": [
    "import pandas as pd\n",
    "import numpy as np\n",
    "from sklearn.cluster import KMeans\n",
    "import matplotlib.pyplot as plt"
   ]
  },
  {
   "cell_type": "code",
   "execution_count": 18,
   "metadata": {},
   "outputs": [
    {
     "data": {
      "text/html": [
       "<div>\n",
       "<style scoped>\n",
       "    .dataframe tbody tr th:only-of-type {\n",
       "        vertical-align: middle;\n",
       "    }\n",
       "\n",
       "    .dataframe tbody tr th {\n",
       "        vertical-align: top;\n",
       "    }\n",
       "\n",
       "    .dataframe thead th {\n",
       "        text-align: right;\n",
       "    }\n",
       "</style>\n",
       "<table border=\"1\" class=\"dataframe\">\n",
       "  <thead>\n",
       "    <tr style=\"text-align: right;\">\n",
       "      <th></th>\n",
       "      <th>NUM_SERIEV</th>\n",
       "      <th>NUM_POL</th>\n",
       "      <th>NUMUNIDADVP</th>\n",
       "      <th>FECINIVIGENTE</th>\n",
       "      <th>FEC_FIN</th>\n",
       "      <th>FEC_ANU</th>\n",
       "      <th>GENERO</th>\n",
       "      <th>EDAD</th>\n",
       "      <th>ANOMVEH</th>\n",
       "      <th>ACREEDOR</th>\n",
       "      <th>...</th>\n",
       "      <th>MRECT_AM</th>\n",
       "      <th>MRECT_CP</th>\n",
       "      <th>MRECT_CO</th>\n",
       "      <th>CANTAC_LC</th>\n",
       "      <th>CANTAC_SO_LC</th>\n",
       "      <th>CANTAC_DP</th>\n",
       "      <th>CANTAC_SO_DP</th>\n",
       "      <th>CANTAC_AM</th>\n",
       "      <th>CANTAC_CP</th>\n",
       "      <th>CANTAC_CO</th>\n",
       "    </tr>\n",
       "  </thead>\n",
       "  <tbody>\n",
       "    <tr>\n",
       "      <th>0</th>\n",
       "      <td>159122</td>\n",
       "      <td>32237</td>\n",
       "      <td>16</td>\n",
       "      <td>2013-03-02</td>\n",
       "      <td>2014-03-02</td>\n",
       "      <td>NaT</td>\n",
       "      <td>NaN</td>\n",
       "      <td>81.0</td>\n",
       "      <td>2013</td>\n",
       "      <td>N</td>\n",
       "      <td>...</td>\n",
       "      <td>0</td>\n",
       "      <td>0.0</td>\n",
       "      <td>0.0000</td>\n",
       "      <td>NaN</td>\n",
       "      <td>NaN</td>\n",
       "      <td>NaN</td>\n",
       "      <td>NaN</td>\n",
       "      <td>NaN</td>\n",
       "      <td>NaN</td>\n",
       "      <td>NaN</td>\n",
       "    </tr>\n",
       "    <tr>\n",
       "      <th>1</th>\n",
       "      <td>81506</td>\n",
       "      <td>32245</td>\n",
       "      <td>1</td>\n",
       "      <td>2013-03-27</td>\n",
       "      <td>2014-03-27</td>\n",
       "      <td>NaT</td>\n",
       "      <td>F</td>\n",
       "      <td>36.0</td>\n",
       "      <td>2009</td>\n",
       "      <td>S</td>\n",
       "      <td>...</td>\n",
       "      <td>0</td>\n",
       "      <td>0.0</td>\n",
       "      <td>302.2407</td>\n",
       "      <td>0.0</td>\n",
       "      <td>0.0</td>\n",
       "      <td>0.0</td>\n",
       "      <td>0.0</td>\n",
       "      <td>0.0</td>\n",
       "      <td>0.0</td>\n",
       "      <td>1.0</td>\n",
       "    </tr>\n",
       "    <tr>\n",
       "      <th>2</th>\n",
       "      <td>159122</td>\n",
       "      <td>32287</td>\n",
       "      <td>1</td>\n",
       "      <td>2013-05-01</td>\n",
       "      <td>2014-05-01</td>\n",
       "      <td>NaT</td>\n",
       "      <td>NaN</td>\n",
       "      <td>NaN</td>\n",
       "      <td>1990</td>\n",
       "      <td>S</td>\n",
       "      <td>...</td>\n",
       "      <td>0</td>\n",
       "      <td>0.0</td>\n",
       "      <td>0.0000</td>\n",
       "      <td>NaN</td>\n",
       "      <td>NaN</td>\n",
       "      <td>NaN</td>\n",
       "      <td>NaN</td>\n",
       "      <td>NaN</td>\n",
       "      <td>NaN</td>\n",
       "      <td>NaN</td>\n",
       "    </tr>\n",
       "    <tr>\n",
       "      <th>3</th>\n",
       "      <td>112293</td>\n",
       "      <td>32251</td>\n",
       "      <td>1</td>\n",
       "      <td>2013-05-10</td>\n",
       "      <td>2014-05-10</td>\n",
       "      <td>NaT</td>\n",
       "      <td>M</td>\n",
       "      <td>65.0</td>\n",
       "      <td>2012</td>\n",
       "      <td>N</td>\n",
       "      <td>...</td>\n",
       "      <td>0</td>\n",
       "      <td>0.0</td>\n",
       "      <td>0.0000</td>\n",
       "      <td>NaN</td>\n",
       "      <td>NaN</td>\n",
       "      <td>NaN</td>\n",
       "      <td>NaN</td>\n",
       "      <td>NaN</td>\n",
       "      <td>NaN</td>\n",
       "      <td>NaN</td>\n",
       "    </tr>\n",
       "    <tr>\n",
       "      <th>4</th>\n",
       "      <td>159707</td>\n",
       "      <td>215402</td>\n",
       "      <td>1</td>\n",
       "      <td>2013-05-14</td>\n",
       "      <td>2014-05-14</td>\n",
       "      <td>NaT</td>\n",
       "      <td>F</td>\n",
       "      <td>65.0</td>\n",
       "      <td>2004</td>\n",
       "      <td>N</td>\n",
       "      <td>...</td>\n",
       "      <td>0</td>\n",
       "      <td>0.0</td>\n",
       "      <td>0.0000</td>\n",
       "      <td>NaN</td>\n",
       "      <td>NaN</td>\n",
       "      <td>NaN</td>\n",
       "      <td>NaN</td>\n",
       "      <td>NaN</td>\n",
       "      <td>NaN</td>\n",
       "      <td>NaN</td>\n",
       "    </tr>\n",
       "    <tr>\n",
       "      <th>...</th>\n",
       "      <td>...</td>\n",
       "      <td>...</td>\n",
       "      <td>...</td>\n",
       "      <td>...</td>\n",
       "      <td>...</td>\n",
       "      <td>...</td>\n",
       "      <td>...</td>\n",
       "      <td>...</td>\n",
       "      <td>...</td>\n",
       "      <td>...</td>\n",
       "      <td>...</td>\n",
       "      <td>...</td>\n",
       "      <td>...</td>\n",
       "      <td>...</td>\n",
       "      <td>...</td>\n",
       "      <td>...</td>\n",
       "      <td>...</td>\n",
       "      <td>...</td>\n",
       "      <td>...</td>\n",
       "      <td>...</td>\n",
       "      <td>...</td>\n",
       "    </tr>\n",
       "    <tr>\n",
       "      <th>95</th>\n",
       "      <td>159368</td>\n",
       "      <td>34142</td>\n",
       "      <td>54</td>\n",
       "      <td>2014-01-01</td>\n",
       "      <td>2015-01-01</td>\n",
       "      <td>NaT</td>\n",
       "      <td>NaN</td>\n",
       "      <td>81.0</td>\n",
       "      <td>2013</td>\n",
       "      <td>N</td>\n",
       "      <td>...</td>\n",
       "      <td>0</td>\n",
       "      <td>0.0</td>\n",
       "      <td>0.0000</td>\n",
       "      <td>NaN</td>\n",
       "      <td>NaN</td>\n",
       "      <td>NaN</td>\n",
       "      <td>NaN</td>\n",
       "      <td>NaN</td>\n",
       "      <td>NaN</td>\n",
       "      <td>NaN</td>\n",
       "    </tr>\n",
       "    <tr>\n",
       "      <th>96</th>\n",
       "      <td>5131</td>\n",
       "      <td>34156</td>\n",
       "      <td>3</td>\n",
       "      <td>2014-01-01</td>\n",
       "      <td>2015-01-01</td>\n",
       "      <td>NaT</td>\n",
       "      <td>M</td>\n",
       "      <td>70.0</td>\n",
       "      <td>2005</td>\n",
       "      <td>N</td>\n",
       "      <td>...</td>\n",
       "      <td>0</td>\n",
       "      <td>0.0</td>\n",
       "      <td>0.0000</td>\n",
       "      <td>NaN</td>\n",
       "      <td>NaN</td>\n",
       "      <td>NaN</td>\n",
       "      <td>NaN</td>\n",
       "      <td>NaN</td>\n",
       "      <td>NaN</td>\n",
       "      <td>NaN</td>\n",
       "    </tr>\n",
       "    <tr>\n",
       "      <th>97</th>\n",
       "      <td>159122</td>\n",
       "      <td>32526</td>\n",
       "      <td>1</td>\n",
       "      <td>2014-01-01</td>\n",
       "      <td>2015-01-01</td>\n",
       "      <td>NaT</td>\n",
       "      <td>F</td>\n",
       "      <td>52.0</td>\n",
       "      <td>2004</td>\n",
       "      <td>S</td>\n",
       "      <td>...</td>\n",
       "      <td>0</td>\n",
       "      <td>0.0</td>\n",
       "      <td>0.0000</td>\n",
       "      <td>NaN</td>\n",
       "      <td>NaN</td>\n",
       "      <td>NaN</td>\n",
       "      <td>NaN</td>\n",
       "      <td>NaN</td>\n",
       "      <td>NaN</td>\n",
       "      <td>NaN</td>\n",
       "    </tr>\n",
       "    <tr>\n",
       "      <th>98</th>\n",
       "      <td>159122</td>\n",
       "      <td>32522</td>\n",
       "      <td>1</td>\n",
       "      <td>2014-01-01</td>\n",
       "      <td>2015-01-01</td>\n",
       "      <td>NaT</td>\n",
       "      <td>F</td>\n",
       "      <td>41.0</td>\n",
       "      <td>2006</td>\n",
       "      <td>S</td>\n",
       "      <td>...</td>\n",
       "      <td>0</td>\n",
       "      <td>0.0</td>\n",
       "      <td>0.0000</td>\n",
       "      <td>NaN</td>\n",
       "      <td>NaN</td>\n",
       "      <td>NaN</td>\n",
       "      <td>NaN</td>\n",
       "      <td>NaN</td>\n",
       "      <td>NaN</td>\n",
       "      <td>NaN</td>\n",
       "    </tr>\n",
       "    <tr>\n",
       "      <th>99</th>\n",
       "      <td>159122</td>\n",
       "      <td>32523</td>\n",
       "      <td>1</td>\n",
       "      <td>2014-01-01</td>\n",
       "      <td>2015-01-01</td>\n",
       "      <td>NaT</td>\n",
       "      <td>F</td>\n",
       "      <td>41.0</td>\n",
       "      <td>2007</td>\n",
       "      <td>S</td>\n",
       "      <td>...</td>\n",
       "      <td>0</td>\n",
       "      <td>0.0</td>\n",
       "      <td>0.0000</td>\n",
       "      <td>NaN</td>\n",
       "      <td>NaN</td>\n",
       "      <td>NaN</td>\n",
       "      <td>NaN</td>\n",
       "      <td>NaN</td>\n",
       "      <td>NaN</td>\n",
       "      <td>NaN</td>\n",
       "    </tr>\n",
       "  </tbody>\n",
       "</table>\n",
       "<p>100 rows × 33 columns</p>\n",
       "</div>"
      ],
      "text/plain": [
       "    NUM_SERIEV   NUM_POL   NUMUNIDADVP  FECINIVIGENTE    FEC_FIN FEC_ANU  \\\n",
       "0        159122     32237            16    2013-03-02 2014-03-02     NaT   \n",
       "1         81506     32245             1    2013-03-27 2014-03-27     NaT   \n",
       "2        159122     32287             1    2013-05-01 2014-05-01     NaT   \n",
       "3        112293     32251             1    2013-05-10 2014-05-10     NaT   \n",
       "4        159707    215402             1    2013-05-14 2014-05-14     NaT   \n",
       "..          ...       ...           ...           ...        ...     ...   \n",
       "95       159368     34142            54    2014-01-01 2015-01-01     NaT   \n",
       "96         5131     34156             3    2014-01-01 2015-01-01     NaT   \n",
       "97       159122     32526             1    2014-01-01 2015-01-01     NaT   \n",
       "98       159122     32522             1    2014-01-01 2015-01-01     NaT   \n",
       "99       159122     32523             1    2014-01-01 2015-01-01     NaT   \n",
       "\n",
       "   GENERO   EDAD  ANOMVEH  ACREEDOR  ...  MRECT_AM  MRECT_CP   MRECT_CO  \\\n",
       "0      NaN  81.0      2013        N  ...         0        0.0    0.0000   \n",
       "1        F  36.0      2009        S  ...         0        0.0  302.2407   \n",
       "2      NaN   NaN      1990        S  ...         0        0.0    0.0000   \n",
       "3        M  65.0      2012        N  ...         0        0.0    0.0000   \n",
       "4        F  65.0      2004        N  ...         0        0.0    0.0000   \n",
       "..     ...   ...       ...      ...  ...       ...        ...       ...   \n",
       "95     NaN  81.0      2013        N  ...         0        0.0    0.0000   \n",
       "96       M  70.0      2005        N  ...         0        0.0    0.0000   \n",
       "97       F  52.0      2004        S  ...         0        0.0    0.0000   \n",
       "98       F  41.0      2006        S  ...         0        0.0    0.0000   \n",
       "99       F  41.0      2007        S  ...         0        0.0    0.0000   \n",
       "\n",
       "    CANTAC_LC  CANTAC_SO_LC  CANTAC_DP  CANTAC_SO_DP  CANTAC_AM   CANTAC_CP  \\\n",
       "0         NaN           NaN        NaN           NaN         NaN        NaN   \n",
       "1         0.0           0.0        0.0           0.0         0.0        0.0   \n",
       "2         NaN           NaN        NaN           NaN         NaN        NaN   \n",
       "3         NaN           NaN        NaN           NaN         NaN        NaN   \n",
       "4         NaN           NaN        NaN           NaN         NaN        NaN   \n",
       "..        ...           ...        ...           ...         ...        ...   \n",
       "95        NaN           NaN        NaN           NaN         NaN        NaN   \n",
       "96        NaN           NaN        NaN           NaN         NaN        NaN   \n",
       "97        NaN           NaN        NaN           NaN         NaN        NaN   \n",
       "98        NaN           NaN        NaN           NaN         NaN        NaN   \n",
       "99        NaN           NaN        NaN           NaN         NaN        NaN   \n",
       "\n",
       "    CANTAC_CO   \n",
       "0          NaN  \n",
       "1          1.0  \n",
       "2          NaN  \n",
       "3          NaN  \n",
       "4          NaN  \n",
       "..         ...  \n",
       "95         NaN  \n",
       "96         NaN  \n",
       "97         NaN  \n",
       "98         NaN  \n",
       "99         NaN  \n",
       "\n",
       "[100 rows x 33 columns]"
      ]
     },
     "execution_count": 18,
     "metadata": {},
     "output_type": "execute_result"
    }
   ],
   "source": [
    "df = pd.read_excel(\"muestra_de_datos.xlsx\")\n",
    "df"
   ]
  },
  {
   "cell_type": "code",
   "execution_count": 19,
   "metadata": {},
   "outputs": [],
   "source": [
    "df.rename(lambda x : x.replace(u'\\xa0',\"\"),axis=1,inplace=True)"
   ]
  },
  {
   "cell_type": "code",
   "execution_count": 20,
   "metadata": {},
   "outputs": [
    {
     "data": {
      "text/plain": [
       "Index(['NUM_SERIEV ', 'NUM_POL', 'NUMUNIDADVP', 'FECINIVIGENTE', 'FEC_FIN',\n",
       "       'FEC_ANU', 'GENERO', 'EDAD', 'ANOMVEH', 'ACREEDOR', 'COD_MARCAV',\n",
       "       'COD_MODELOV', 'MCLIM_LC', 'MCLIM_SO_LC', 'MCLIM_DPA', 'MCLIM_SO_DPA',\n",
       "       'MCLIM_AM', 'MCLIM_CP', 'MCLIM_CO', 'MRECT_LC', 'MRECT_SO_LC',\n",
       "       'MRECT_DPA', 'MRECT_SO_DPA', 'MRECT_AM', 'MRECT_CP', 'MRECT_CO',\n",
       "       'CANTAC_LC', 'CANTAC_SO_LC', 'CANTAC_DP', 'CANTAC_SO_DP', 'CANTAC_AM',\n",
       "       'CANTAC_CP', 'CANTAC_CO'],\n",
       "      dtype='object')"
      ]
     },
     "execution_count": 20,
     "metadata": {},
     "output_type": "execute_result"
    }
   ],
   "source": [
    "df.keys()"
   ]
  },
  {
   "cell_type": "code",
   "execution_count": null,
   "metadata": {},
   "outputs": [],
   "source": []
  },
  {
   "cell_type": "code",
   "execution_count": 21,
   "metadata": {},
   "outputs": [],
   "source": [
    "df[\"suma_cobertura\"]=df[[\"MCLIM_LC\",\"MCLIM_SO_LC\",\"MCLIM_DPA\",\"MCLIM_SO_DPA\",\"MCLIM_AM\",\"MCLIM_CP\",\"MCLIM_CO\"]].sum(axis=1)\n",
    "df[\"suma_reclamos\"]=df[[\"MRECT_LC\",\"MRECT_SO_LC\",\"MRECT_DPA\",\"MRECT_SO_DPA\",\"MRECT_AM\",\"MRECT_CP\",\"MRECT_CO\"]].sum(axis=1)"
   ]
  },
  {
   "cell_type": "code",
   "execution_count": 22,
   "metadata": {},
   "outputs": [
    {
     "data": {
      "text/html": [
       "<div>\n",
       "<style scoped>\n",
       "    .dataframe tbody tr th:only-of-type {\n",
       "        vertical-align: middle;\n",
       "    }\n",
       "\n",
       "    .dataframe tbody tr th {\n",
       "        vertical-align: top;\n",
       "    }\n",
       "\n",
       "    .dataframe thead th {\n",
       "        text-align: right;\n",
       "    }\n",
       "</style>\n",
       "<table border=\"1\" class=\"dataframe\">\n",
       "  <thead>\n",
       "    <tr style=\"text-align: right;\">\n",
       "      <th></th>\n",
       "      <th>NUM_SERIEV</th>\n",
       "      <th>NUM_POL</th>\n",
       "      <th>NUMUNIDADVP</th>\n",
       "      <th>FECINIVIGENTE</th>\n",
       "      <th>FEC_FIN</th>\n",
       "      <th>FEC_ANU</th>\n",
       "      <th>GENERO</th>\n",
       "      <th>EDAD</th>\n",
       "      <th>ANOMVEH</th>\n",
       "      <th>ACREEDOR</th>\n",
       "      <th>...</th>\n",
       "      <th>MRECT_CO</th>\n",
       "      <th>CANTAC_LC</th>\n",
       "      <th>CANTAC_SO_LC</th>\n",
       "      <th>CANTAC_DP</th>\n",
       "      <th>CANTAC_SO_DP</th>\n",
       "      <th>CANTAC_AM</th>\n",
       "      <th>CANTAC_CP</th>\n",
       "      <th>CANTAC_CO</th>\n",
       "      <th>suma_cobertura</th>\n",
       "      <th>suma_reclamos</th>\n",
       "    </tr>\n",
       "  </thead>\n",
       "  <tbody>\n",
       "    <tr>\n",
       "      <th>0</th>\n",
       "      <td>159122</td>\n",
       "      <td>32237</td>\n",
       "      <td>16</td>\n",
       "      <td>2013-03-02</td>\n",
       "      <td>2014-03-02</td>\n",
       "      <td>NaT</td>\n",
       "      <td>NaN</td>\n",
       "      <td>81.0</td>\n",
       "      <td>2013</td>\n",
       "      <td>N</td>\n",
       "      <td>...</td>\n",
       "      <td>0.0000</td>\n",
       "      <td>NaN</td>\n",
       "      <td>NaN</td>\n",
       "      <td>NaN</td>\n",
       "      <td>NaN</td>\n",
       "      <td>NaN</td>\n",
       "      <td>NaN</td>\n",
       "      <td>NaN</td>\n",
       "      <td>10000.0</td>\n",
       "      <td>0.0000</td>\n",
       "    </tr>\n",
       "    <tr>\n",
       "      <th>1</th>\n",
       "      <td>81506</td>\n",
       "      <td>32245</td>\n",
       "      <td>1</td>\n",
       "      <td>2013-03-27</td>\n",
       "      <td>2014-03-27</td>\n",
       "      <td>NaT</td>\n",
       "      <td>F</td>\n",
       "      <td>36.0</td>\n",
       "      <td>2009</td>\n",
       "      <td>S</td>\n",
       "      <td>...</td>\n",
       "      <td>302.2407</td>\n",
       "      <td>0.0</td>\n",
       "      <td>0.0</td>\n",
       "      <td>0.0</td>\n",
       "      <td>0.0</td>\n",
       "      <td>0.0</td>\n",
       "      <td>0.0</td>\n",
       "      <td>1.0</td>\n",
       "      <td>75000.0</td>\n",
       "      <td>302.2407</td>\n",
       "    </tr>\n",
       "    <tr>\n",
       "      <th>2</th>\n",
       "      <td>159122</td>\n",
       "      <td>32287</td>\n",
       "      <td>1</td>\n",
       "      <td>2013-05-01</td>\n",
       "      <td>2014-05-01</td>\n",
       "      <td>NaT</td>\n",
       "      <td>NaN</td>\n",
       "      <td>NaN</td>\n",
       "      <td>1990</td>\n",
       "      <td>S</td>\n",
       "      <td>...</td>\n",
       "      <td>0.0000</td>\n",
       "      <td>NaN</td>\n",
       "      <td>NaN</td>\n",
       "      <td>NaN</td>\n",
       "      <td>NaN</td>\n",
       "      <td>NaN</td>\n",
       "      <td>NaN</td>\n",
       "      <td>NaN</td>\n",
       "      <td>10000.0</td>\n",
       "      <td>0.0000</td>\n",
       "    </tr>\n",
       "    <tr>\n",
       "      <th>3</th>\n",
       "      <td>112293</td>\n",
       "      <td>32251</td>\n",
       "      <td>1</td>\n",
       "      <td>2013-05-10</td>\n",
       "      <td>2014-05-10</td>\n",
       "      <td>NaT</td>\n",
       "      <td>M</td>\n",
       "      <td>65.0</td>\n",
       "      <td>2012</td>\n",
       "      <td>N</td>\n",
       "      <td>...</td>\n",
       "      <td>0.0000</td>\n",
       "      <td>NaN</td>\n",
       "      <td>NaN</td>\n",
       "      <td>NaN</td>\n",
       "      <td>NaN</td>\n",
       "      <td>NaN</td>\n",
       "      <td>NaN</td>\n",
       "      <td>NaN</td>\n",
       "      <td>75000.0</td>\n",
       "      <td>0.0000</td>\n",
       "    </tr>\n",
       "    <tr>\n",
       "      <th>4</th>\n",
       "      <td>159707</td>\n",
       "      <td>215402</td>\n",
       "      <td>1</td>\n",
       "      <td>2013-05-14</td>\n",
       "      <td>2014-05-14</td>\n",
       "      <td>NaT</td>\n",
       "      <td>F</td>\n",
       "      <td>65.0</td>\n",
       "      <td>2004</td>\n",
       "      <td>N</td>\n",
       "      <td>...</td>\n",
       "      <td>0.0000</td>\n",
       "      <td>NaN</td>\n",
       "      <td>NaN</td>\n",
       "      <td>NaN</td>\n",
       "      <td>NaN</td>\n",
       "      <td>NaN</td>\n",
       "      <td>NaN</td>\n",
       "      <td>NaN</td>\n",
       "      <td>50000.0</td>\n",
       "      <td>0.0000</td>\n",
       "    </tr>\n",
       "  </tbody>\n",
       "</table>\n",
       "<p>5 rows × 35 columns</p>\n",
       "</div>"
      ],
      "text/plain": [
       "   NUM_SERIEV   NUM_POL  NUMUNIDADVP FECINIVIGENTE    FEC_FIN FEC_ANU GENERO  \\\n",
       "0       159122    32237           16    2013-03-02 2014-03-02     NaT    NaN   \n",
       "1        81506    32245            1    2013-03-27 2014-03-27     NaT      F   \n",
       "2       159122    32287            1    2013-05-01 2014-05-01     NaT    NaN   \n",
       "3       112293    32251            1    2013-05-10 2014-05-10     NaT      M   \n",
       "4       159707   215402            1    2013-05-14 2014-05-14     NaT      F   \n",
       "\n",
       "   EDAD  ANOMVEH ACREEDOR  ...  MRECT_CO  CANTAC_LC  CANTAC_SO_LC  CANTAC_DP  \\\n",
       "0  81.0     2013        N  ...    0.0000        NaN           NaN        NaN   \n",
       "1  36.0     2009        S  ...  302.2407        0.0           0.0        0.0   \n",
       "2   NaN     1990        S  ...    0.0000        NaN           NaN        NaN   \n",
       "3  65.0     2012        N  ...    0.0000        NaN           NaN        NaN   \n",
       "4  65.0     2004        N  ...    0.0000        NaN           NaN        NaN   \n",
       "\n",
       "   CANTAC_SO_DP  CANTAC_AM  CANTAC_CP  CANTAC_CO  suma_cobertura  \\\n",
       "0           NaN        NaN        NaN        NaN         10000.0   \n",
       "1           0.0        0.0        0.0        1.0         75000.0   \n",
       "2           NaN        NaN        NaN        NaN         10000.0   \n",
       "3           NaN        NaN        NaN        NaN         75000.0   \n",
       "4           NaN        NaN        NaN        NaN         50000.0   \n",
       "\n",
       "   suma_reclamos  \n",
       "0         0.0000  \n",
       "1       302.2407  \n",
       "2         0.0000  \n",
       "3         0.0000  \n",
       "4         0.0000  \n",
       "\n",
       "[5 rows x 35 columns]"
      ]
     },
     "execution_count": 22,
     "metadata": {},
     "output_type": "execute_result"
    }
   ],
   "source": [
    "df = df[df[\"suma_cobertura\"]!=0]\n",
    "df.head()"
   ]
  },
  {
   "cell_type": "code",
   "execution_count": 51,
   "metadata": {},
   "outputs": [
    {
     "name": "stderr",
     "output_type": "stream",
     "text": [
      "C:\\Users\\susan\\AppData\\Local\\Temp\\ipykernel_5832\\1557197650.py:1: SettingWithCopyWarning:\n",
      "\n",
      "\n",
      "A value is trying to be set on a copy of a slice from a DataFrame.\n",
      "Try using .loc[row_indexer,col_indexer] = value instead\n",
      "\n",
      "See the caveats in the documentation: https://pandas.pydata.org/pandas-docs/stable/user_guide/indexing.html#returning-a-view-versus-a-copy\n",
      "\n"
     ]
    }
   ],
   "source": [
    "df[\"ACREEDOR\"]=df[\"ACREEDOR\"].str.replace(\"N\",\"1\").replace(\"S\",\"0\").astype(int)\n",
    "#df[\"GENERO\"]=df[\"GENERO\"].fillna(\"N\").str.replace(\"F\",\"1\").replace(\"M\",\"0\").replace(\"N\",\"2\").astype(int)"
   ]
  },
  {
   "cell_type": "code",
   "execution_count": 24,
   "metadata": {},
   "outputs": [
    {
     "name": "stderr",
     "output_type": "stream",
     "text": [
      "C:\\Users\\susan\\AppData\\Local\\Temp\\ipykernel_5832\\1004804394.py:1: SettingWithCopyWarning:\n",
      "\n",
      "\n",
      "A value is trying to be set on a copy of a slice from a DataFrame\n",
      "\n",
      "See the caveats in the documentation: https://pandas.pydata.org/pandas-docs/stable/user_guide/indexing.html#returning-a-view-versus-a-copy\n",
      "\n"
     ]
    }
   ],
   "source": [
    "df[\"EDAD\"].fillna(df[\"EDAD\"].mean(),inplace=True)"
   ]
  },
  {
   "cell_type": "code",
   "execution_count": 25,
   "metadata": {},
   "outputs": [
    {
     "data": {
      "text/plain": [
       "Index(['NUM_SERIEV ', 'NUM_POL', 'NUMUNIDADVP', 'FECINIVIGENTE', 'FEC_FIN',\n",
       "       'FEC_ANU', 'GENERO', 'EDAD', 'ANOMVEH', 'ACREEDOR', 'COD_MARCAV',\n",
       "       'COD_MODELOV', 'MCLIM_LC', 'MCLIM_SO_LC', 'MCLIM_DPA', 'MCLIM_SO_DPA',\n",
       "       'MCLIM_AM', 'MCLIM_CP', 'MCLIM_CO', 'MRECT_LC', 'MRECT_SO_LC',\n",
       "       'MRECT_DPA', 'MRECT_SO_DPA', 'MRECT_AM', 'MRECT_CP', 'MRECT_CO',\n",
       "       'CANTAC_LC', 'CANTAC_SO_LC', 'CANTAC_DP', 'CANTAC_SO_DP', 'CANTAC_AM',\n",
       "       'CANTAC_CP', 'CANTAC_CO', 'suma_cobertura', 'suma_reclamos'],\n",
       "      dtype='object')"
      ]
     },
     "execution_count": 25,
     "metadata": {},
     "output_type": "execute_result"
    }
   ],
   "source": [
    "#df.fillna(0,inplace=True)\n",
    "df.keys()"
   ]
  },
  {
   "cell_type": "code",
   "execution_count": 88,
   "metadata": {},
   "outputs": [],
   "source": [
    "X = df[[\"COD_MARCAV\",\"EDAD\",\"suma_cobertura\"]].values"
   ]
  },
  {
   "cell_type": "code",
   "execution_count": 89,
   "metadata": {},
   "outputs": [
    {
     "data": {
      "image/png": "[encoded data removed]",
      "text/plain": [
       "<Figure size 432x288 with 1 Axes>"
      ]
     },
     "metadata": {
      "needs_background": "light"
     },
     "output_type": "display_data"
    }
   ],
   "source": [
    "#elbow method\n",
    "wcss = []\n",
    "for i in range(1,11):\n",
    "    k_means = KMeans(n_clusters=i,init='k-means++', random_state=42)\n",
    "    k_means.fit(X)\n",
    "    wcss.append(k_means.inertia_)\n",
    "#plot elbow curve\n",
    "plt.plot(np.arange(1,11),wcss)\n",
    "plt.xlabel('Clusters')\n",
    "plt.ylabel('SSE')\n",
    "plt.show()"
   ]
  },
  {
   "cell_type": "code",
   "execution_count": 93,
   "metadata": {},
   "outputs": [
    {
     "name": "stderr",
     "output_type": "stream",
     "text": [
      "C:\\Users\\susan\\AppData\\Local\\Temp\\ipykernel_5832\\691017285.py:3: SettingWithCopyWarning:\n",
      "\n",
      "\n",
      "A value is trying to be set on a copy of a slice from a DataFrame.\n",
      "Try using .loc[row_indexer,col_indexer] = value instead\n",
      "\n",
      "See the caveats in the documentation: https://pandas.pydata.org/pandas-docs/stable/user_guide/indexing.html#returning-a-view-versus-a-copy\n",
      "\n"
     ]
    }
   ],
   "source": [
    "k_means_optimum = KMeans(n_clusters = 4, init = 'k-means++',  random_state=42)\n",
    "y = k_means_optimum.fit_predict(X)\n",
    "df['cluster'] = y  "
   ]
  },
  {
   "cell_type": "code",
   "execution_count": 94,
   "metadata": {},
   "outputs": [
    {
     "data": {
      "application/vnd.plotly.v1+json": {
       "config": {
        "plotlyServerURL": "https://plot.ly"
       },
       "data": [
        {
         "hovertemplate": "COD_MARCAV=%{x}<br>EDAD=%{y}<br>suma_cobertura=%{z}<br>cluster=%{marker.color}<extra></extra>",
         "legendgroup": "",
         "marker": {
          "color": [
           1,
           1,
           1,
           1,
           1,
           1,
           1,
           1,
           1,
           0,
           1,
           1,
           3,
           3,
           3,
           3,
           1,
           1,
           1,
           1,
           1,
           1,
           3,
           1,
           1,
           1,
           1,
           3,
           1,
           1,
           1,
           1,
           1,
           0,
           0,
           0,
           0,
           1,
           0,
           1,
           1,
           1,
           1,
           1,
           1,
           1,
           1,
           1,
           1,
           0,
           0,
           0,
           0,
           0,
           0,
           0,
           0,
           0,
           0,
           0,
           0,
           0,
           0,
           0,
           0,
           0,
           0,
           0,
           0,
           0,
           0,
           0,
           0,
           0,
           0,
           3,
           0,
           0,
           0,
           0,
           2,
           0,
           2,
           0,
           1,
           1,
           1
          ],
          "coloraxis": "coloraxis",
          "symbol": "circle"
         },
         "mode": "markers",
         "name": "",
         "scene": "scene",
         "showlegend": false,
         "type": "scatter3d",
         "x": [
          75,
          73,
          50,
          29,
          43,
          6,
          52,
          28,
          73,
          28,
          29,
          52,
          52,
          52,
          91,
          73,
          52,
          73,
          52,
          43,
          29,
          64,
          73,
          73,
          52,
          47,
          29,
          6,
          52,
          6,
          71,
          10,
          73,
          52,
          52,
          52,
          48,
          73,
          52,
          73,
          73,
          73,
          6,
          29,
          73,
          73,
          73,
          52,
          52,
          44,
          20,
          6,
          73,
          73,
          73,
          29,
          52,
          20,
          73,
          73,
          73,
          73,
          73,
          73,
          73,
          73,
          52,
          52,
          43,
          73,
          44,
          73,
          28,
          52,
          73,
          73,
          59,
          73,
          73,
          73,
          59,
          40,
          43,
          20,
          52,
          19,
          10
         ],
         "y": [
          81,
          36,
          51.94805194805195,
          65,
          65,
          51.94805194805195,
          49,
          51,
          34,
          42,
          59,
          81,
          52,
          52,
          52,
          65,
          45,
          67,
          47,
          81,
          45,
          69,
          51.94805194805195,
          51.94805194805195,
          51.94805194805195,
          51.94805194805195,
          51.94805194805195,
          73,
          24,
          73,
          81,
          81,
          14,
          14,
          14,
          14,
          81,
          42,
          84,
          48,
          51.94805194805195,
          51.94805194805195,
          51.94805194805195,
          33,
          81,
          81,
          81,
          81,
          81,
          81,
          81,
          81,
          14,
          14,
          14,
          14,
          14,
          14,
          14,
          14,
          14,
          14,
          14,
          14,
          14,
          14,
          14,
          14,
          81,
          84,
          84,
          69,
          69,
          84,
          51,
          21,
          81,
          81,
          81,
          81,
          81,
          81,
          81,
          70,
          52,
          41,
          41
         ],
         "z": [
          10000,
          75000,
          10000,
          75000,
          50000,
          147057.178,
          25000,
          50000,
          36149.4,
          450000,
          20000,
          28366.905,
          425000,
          400000,
          300000,
          400000,
          21000,
          25000,
          50000,
          50000,
          13219.038,
          12180,
          300000,
          20000,
          20000,
          20000,
          20000,
          400000,
          16800,
          150000,
          10249.596000000001,
          12600,
          128287.084,
          466052.799,
          460962.12600000005,
          461606.973,
          460582.358,
          35000,
          479245.48199999996,
          55000,
          100000,
          100000,
          132935.203,
          74360,
          85000,
          85000,
          85000,
          100000,
          100000,
          543715.272,
          528642.228,
          585842.784,
          488689.875,
          485465.72400000005,
          482241.573,
          470876.394,
          459900.15599999996,
          450000,
          471924.27300000004,
          471924.27300000004,
          473858.75100000005,
          473858.75100000005,
          473858.75100000005,
          471924.27300000004,
          471924.27300000004,
          471924.27300000004,
          467404.002,
          460962.12600000005,
          543602.519,
          480711.24,
          573020.625,
          514175.223,
          511875.345,
          479389.5,
          450000,
          400000,
          542791.986,
          504121.53599999996,
          469412.652,
          469412.652,
          702038.4299999999,
          513552.804,
          744268.8840000001,
          470026.23,
          54784.630000000005,
          48139.894,
          50717.056
         ]
        }
       ],
       "layout": {
        "autosize": true,
        "coloraxis": {
         "colorbar": {
          "title": {
           "text": "cluster"
          }
         },
         "colorscale": [
          [
           0,
           "#0d0887"
          ],
          [
           0.1111111111111111,
           "#46039f"
          ],
          [
           0.2222222222222222,
           "#7201a8"
          ],
          [
           0.3333333333333333,
           "#9c179e"
          ],
          [
           0.4444444444444444,
           "#bd3786"
          ],
          [
           0.5555555555555556,
           "#d8576b"
          ],
          [
           0.6666666666666666,
           "#ed7953"
          ],
          [
           0.7777777777777778,
           "#fb9f3a"
          ],
          [
           0.8888888888888888,
           "#fdca26"
          ],
          [
           1,
           "#f0f921"
          ]
         ]
        },
        "legend": {
         "tracegroupgap": 0
        },
        "margin": {
         "t": 60
        },
        "scene": {
         "aspectmode": "auto",
         "aspectratio": {
          "x": 1,
          "y": 1,
          "z": 1
         },
         "camera": {
          "center": {
           "x": 0,
           "y": 0,
           "z": 0
          },
          "eye": {
           "x": -2.1394229522515245,
           "y": -1.1560252382127632,
           "z": 0.850034750423093
          },
          "projection": {
           "type": "perspective"
          },
          "up": {
           "x": 0,
           "y": 0,
           "z": 1
          }
         },
         "domain": {
          "x": [
           0,
           1
          ],
          "y": [
           0,
           1
          ]
         },
         "xaxis": {
          "title": {
           "text": "COD_MARCAV"
          },
          "type": "linear"
         },
         "yaxis": {
          "title": {
           "text": "EDAD"
          },
          "type": "linear"
         },
         "zaxis": {
          "title": {
           "text": "suma_cobertura"
          },
          "type": "linear"
         }
        },
        "template": {
         "data": {
          "bar": [
           {
            "error_x": {
             "color": "#2a3f5f"
            },
            "error_y": {
             "color": "#2a3f5f"
            },
            "marker": {
             "line": {
              "color": "#E5ECF6",
              "width": 0.5
             },
             "pattern": {
              "fillmode": "overlay",
              "size": 10,
              "solidity": 0.2
             }
            },
            "type": "bar"
           }
          ],
          "barpolar": [
           {
            "marker": {
             "line": {
              "color": "#E5ECF6",
              "width": 0.5
             },
             "pattern": {
              "fillmode": "overlay",
              "size": 10,
              "solidity": 0.2
             }
            },
            "type": "barpolar"
           }
          ],
          "carpet": [
           {
            "aaxis": {
             "endlinecolor": "#2a3f5f",
             "gridcolor": "white",
             "linecolor": "white",
             "minorgridcolor": "white",
             "startlinecolor": "#2a3f5f"
            },
            "baxis": {
             "endlinecolor": "#2a3f5f",
             "gridcolor": "white",
             "linecolor": "white",
             "minorgridcolor": "white",
             "startlinecolor": "#2a3f5f"
            },
            "type": "carpet"
           }
          ],
          "choropleth": [
           {
            "colorbar": {
             "outlinewidth": 0,
             "ticks": ""
            },
            "type": "choropleth"
           }
          ],
          "contour": [
           {
            "colorbar": {
             "outlinewidth": 0,
             "ticks": ""
            },
            "colorscale": [
             [
              0,
              "#0d0887"
             ],
             [
              0.1111111111111111,
              "#46039f"
             ],
             [
              0.2222222222222222,
              "#7201a8"
             ],
             [
              0.3333333333333333,
              "#9c179e"
             ],
             [
              0.4444444444444444,
              "#bd3786"
             ],
             [
              0.5555555555555556,
              "#d8576b"
             ],
             [
              0.6666666666666666,
              "#ed7953"
             ],
             [
              0.7777777777777778,
              "#fb9f3a"
             ],
             [
              0.8888888888888888,
              "#fdca26"
             ],
             [
              1,
              "#f0f921"
             ]
            ],
            "type": "contour"
           }
          ],
          "contourcarpet": [
           {
            "colorbar": {
             "outlinewidth": 0,
             "ticks": ""
            },
            "type": "contourcarpet"
           }
          ],
          "heatmap": [
           {
            "colorbar": {
             "outlinewidth": 0,
             "ticks": ""
            },
            "colorscale": [
             [
              0,
              "#0d0887"
             ],
             [
              0.1111111111111111,
              "#46039f"
             ],
             [
              0.2222222222222222,
              "#7201a8"
             ],
             [
              0.3333333333333333,
              "#9c179e"
             ],
             [
              0.4444444444444444,
              "#bd3786"
             ],
             [
              0.5555555555555556,
              "#d8576b"
             ],
             [
              0.6666666666666666,
              "#ed7953"
             ],
             [
              0.7777777777777778,
              "#fb9f3a"
             ],
             [
              0.8888888888888888,
              "#fdca26"
             ],
             [
              1,
              "#f0f921"
             ]
            ],
            "type": "heatmap"
           }
          ],
          "heatmapgl": [
           {
            "colorbar": {
             "outlinewidth": 0,
             "ticks": ""
            },
            "colorscale": [
             [
              0,
              "#0d0887"
             ],
             [
              0.1111111111111111,
              "#46039f"
             ],
             [
              0.2222222222222222,
              "#7201a8"
             ],
             [
              0.3333333333333333,
              "#9c179e"
             ],
             [
              0.4444444444444444,
              "#bd3786"
             ],
             [
              0.5555555555555556,
              "#d8576b"
             ],
             [
              0.6666666666666666,
              "#ed7953"
             ],
             [
              0.7777777777777778,
              "#fb9f3a"
             ],
             [
              0.8888888888888888,
              "#fdca26"
             ],
             [
              1,
              "#f0f921"
             ]
            ],
            "type": "heatmapgl"
           }
          ],
          "histogram": [
           {
            "marker": {
             "pattern": {
              "fillmode": "overlay",
              "size": 10,
              "solidity": 0.2
             }
            },
            "type": "histogram"
           }
          ],
          "histogram2d": [
           {
            "colorbar": {
             "outlinewidth": 0,
             "ticks": ""
            },
            "colorscale": [
             [
              0,
              "#0d0887"
             ],
             [
              0.1111111111111111,
              "#46039f"
             ],
             [
              0.2222222222222222,
              "#7201a8"
             ],
             [
              0.3333333333333333,
              "#9c179e"
             ],
             [
              0.4444444444444444,
              "#bd3786"
             ],
             [
              0.5555555555555556,
              "#d8576b"
             ],
             [
              0.6666666666666666,
              "#ed7953"
             ],
             [
              0.7777777777777778,
              "#fb9f3a"
             ],
             [
              0.8888888888888888,
              "#fdca26"
             ],
             [
              1,
              "#f0f921"
             ]
            ],
            "type": "histogram2d"
           }
          ],
          "histogram2dcontour": [
           {
            "colorbar": {
             "outlinewidth": 0,
             "ticks": ""
            },
            "colorscale": [
             [
              0,
              "#0d0887"
             ],
             [
              0.1111111111111111,
              "#46039f"
             ],
             [
              0.2222222222222222,
              "#7201a8"
             ],
             [
              0.3333333333333333,
              "#9c179e"
             ],
             [
              0.4444444444444444,
              "#bd3786"
             ],
             [
              0.5555555555555556,
              "#d8576b"
             ],
             [
              0.6666666666666666,
              "#ed7953"
             ],
             [
              0.7777777777777778,
              "#fb9f3a"
             ],
             [
              0.8888888888888888,
              "#fdca26"
             ],
             [
              1,
              "#f0f921"
             ]
            ],
            "type": "histogram2dcontour"
           }
          ],
          "mesh3d": [
           {
            "colorbar": {
             "outlinewidth": 0,
             "ticks": ""
            },
            "type": "mesh3d"
           }
          ],
          "parcoords": [
           {
            "line": {
             "colorbar": {
              "outlinewidth": 0,
              "ticks": ""
             }
            },
            "type": "parcoords"
           }
          ],
          "pie": [
           {
            "automargin": true,
            "type": "pie"
           }
          ],
          "scatter": [
           {
            "fillpattern": {
             "fillmode": "overlay",
             "size": 10,
             "solidity": 0.2
            },
            "type": "scatter"
           }
          ],
          "scatter3d": [
           {
            "line": {
             "colorbar": {
              "outlinewidth": 0,
              "ticks": ""
             }
            },
            "marker": {
             "colorbar": {
              "outlinewidth": 0,
              "ticks": ""
             }
            },
            "type": "scatter3d"
           }
          ],
          "scattercarpet": [
           {
            "marker": {
             "colorbar": {
              "outlinewidth": 0,
              "ticks": ""
             }
            },
            "type": "scattercarpet"
           }
          ],
          "scattergeo": [
           {
            "marker": {
             "colorbar": {
              "outlinewidth": 0,
              "ticks": ""
             }
            },
            "type": "scattergeo"
           }
          ],
          "scattergl": [
           {
            "marker": {
             "colorbar": {
              "outlinewidth": 0,
              "ticks": ""
             }
            },
            "type": "scattergl"
           }
          ],
          "scattermapbox": [
           {
            "marker": {
             "colorbar": {
              "outlinewidth": 0,
              "ticks": ""
             }
            },
            "type": "scattermapbox"
           }
          ],
          "scatterpolar": [
           {
            "marker": {
             "colorbar": {
              "outlinewidth": 0,
              "ticks": ""
             }
            },
            "type": "scatterpolar"
           }
          ],
          "scatterpolargl": [
           {
            "marker": {
             "colorbar": {
              "outlinewidth": 0,
              "ticks": ""
             }
            },
            "type": "scatterpolargl"
           }
          ],
          "scatterternary": [
           {
            "marker": {
             "colorbar": {
              "outlinewidth": 0,
              "ticks": ""
             }
            },
            "type": "scatterternary"
           }
          ],
          "surface": [
           {
            "colorbar": {
             "outlinewidth": 0,
             "ticks": ""
            },
            "colorscale": [
             [
              0,
              "#0d0887"
             ],
             [
              0.1111111111111111,
              "#46039f"
             ],
             [
              0.2222222222222222,
              "#7201a8"
             ],
             [
              0.3333333333333333,
              "#9c179e"
             ],
             [
              0.4444444444444444,
              "#bd3786"
             ],
             [
              0.5555555555555556,
              "#d8576b"
             ],
             [
              0.6666666666666666,
              "#ed7953"
             ],
             [
              0.7777777777777778,
              "#fb9f3a"
             ],
             [
              0.8888888888888888,
              "#fdca26"
             ],
             [
              1,
              "#f0f921"
             ]
            ],
            "type": "surface"
           }
          ],
          "table": [
           {
            "cells": {
             "fill": {
              "color": "#EBF0F8"
             },
             "line": {
              "color": "white"
             }
            },
            "header": {
             "fill": {
              "color": "#C8D4E3"
             },
             "line": {
              "color": "white"
             }
            },
            "type": "table"
           }
          ]
         },
         "layout": {
          "annotationdefaults": {
           "arrowcolor": "#2a3f5f",
           "arrowhead": 0,
           "arrowwidth": 1
          },
          "autotypenumbers": "strict",
          "coloraxis": {
           "colorbar": {
            "outlinewidth": 0,
            "ticks": ""
           }
          },
          "colorscale": {
           "diverging": [
            [
             0,
             "#8e0152"
            ],
            [
             0.1,
             "#c51b7d"
            ],
            [
             0.2,
             "#de77ae"
            ],
            [
             0.3,
             "#f1b6da"
            ],
            [
             0.4,
             "#fde0ef"
            ],
            [
             0.5,
             "#f7f7f7"
            ],
            [
             0.6,
             "#e6f5d0"
            ],
            [
             0.7,
             "#b8e186"
            ],
            [
             0.8,
             "#7fbc41"
            ],
            [
             0.9,
             "#4d9221"
            ],
            [
             1,
             "#276419"
            ]
           ],
           "sequential": [
            [
             0,
             "#0d0887"
            ],
            [
             0.1111111111111111,
             "#46039f"
            ],
            [
             0.2222222222222222,
             "#7201a8"
            ],
            [
             0.3333333333333333,
             "#9c179e"
            ],
            [
             0.4444444444444444,
             "#bd3786"
            ],
            [
             0.5555555555555556,
             "#d8576b"
            ],
            [
             0.6666666666666666,
             "#ed7953"
            ],
            [
             0.7777777777777778,
             "#fb9f3a"
            ],
            [
             0.8888888888888888,
             "#fdca26"
            ],
            [
             1,
             "#f0f921"
            ]
           ],
           "sequentialminus": [
            [
             0,
             "#0d0887"
            ],
            [
             0.1111111111111111,
             "#46039f"
            ],
            [
             0.2222222222222222,
             "#7201a8"
            ],
            [
             0.3333333333333333,
             "#9c179e"
            ],
            [
             0.4444444444444444,
             "#bd3786"
            ],
            [
             0.5555555555555556,
             "#d8576b"
            ],
            [
             0.6666666666666666,
             "#ed7953"
            ],
            [
             0.7777777777777778,
             "#fb9f3a"
            ],
            [
             0.8888888888888888,
             "#fdca26"
            ],
            [
             1,
             "#f0f921"
            ]
           ]
          },
          "colorway": [
           "#636efa",
           "#EF553B",
           "#00cc96",
           "#ab63fa",
           "#FFA15A",
           "#19d3f3",
           "#FF6692",
           "#B6E880",
           "#FF97FF",
           "#FECB52"
          ],
          "font": {
           "color": "#2a3f5f"
          },
          "geo": {
           "bgcolor": "white",
           "lakecolor": "white",
           "landcolor": "#E5ECF6",
           "showlakes": true,
           "showland": true,
           "subunitcolor": "white"
          },
          "hoverlabel": {
           "align": "left"
          },
          "hovermode": "closest",
          "mapbox": {
           "style": "light"
          },
          "paper_bgcolor": "white",
          "plot_bgcolor": "#E5ECF6",
          "polar": {
           "angularaxis": {
            "gridcolor": "white",
            "linecolor": "white",
            "ticks": ""
           },
           "bgcolor": "#E5ECF6",
           "radialaxis": {
            "gridcolor": "white",
            "linecolor": "white",
            "ticks": ""
           }
          },
          "scene": {
           "xaxis": {
            "backgroundcolor": "#E5ECF6",
            "gridcolor": "white",
            "gridwidth": 2,
            "linecolor": "white",
            "showbackground": true,
            "ticks": "",
            "zerolinecolor": "white"
           },
           "yaxis": {
            "backgroundcolor": "#E5ECF6",
            "gridcolor": "white",
            "gridwidth": 2,
            "linecolor": "white",
            "showbackground": true,
            "ticks": "",
            "zerolinecolor": "white"
           },
           "zaxis": {
            "backgroundcolor": "#E5ECF6",
            "gridcolor": "white",
            "gridwidth": 2,
            "linecolor": "white",
            "showbackground": true,
            "ticks": "",
            "zerolinecolor": "white"
           }
          },
          "shapedefaults": {
           "line": {
            "color": "#2a3f5f"
           }
          },
          "ternary": {
           "aaxis": {
            "gridcolor": "white",
            "linecolor": "white",
            "ticks": ""
           },
           "baxis": {
            "gridcolor": "white",
            "linecolor": "white",
            "ticks": ""
           },
           "bgcolor": "#E5ECF6",
           "caxis": {
            "gridcolor": "white",
            "linecolor": "white",
            "ticks": ""
           }
          },
          "title": {
           "x": 0.05
          },
          "xaxis": {
           "automargin": true,
           "gridcolor": "white",
           "linecolor": "white",
           "ticks": "",
           "title": {
            "standoff": 15
           },
           "zerolinecolor": "white",
           "zerolinewidth": 2
          },
          "yaxis": {
           "automargin": true,
           "gridcolor": "white",
           "linecolor": "white",
           "ticks": "",
           "title": {
            "standoff": 15
           },
           "zerolinecolor": "white",
           "zerolinewidth": 2
          }
         }
        }
       }
      },
      "image/png": "[encoded data removed]",
      "text/html": [
       "<div>                            <div id=\"3b316c96-1b79-43df-a0fc-0a1478eee7c1\" class=\"plotly-graph-div\" style=\"height:525px; width:100%;\"></div>            <script type=\"text/javascript\">                require([\"plotly\"], function(Plotly) {                    window.PLOTLYENV=window.PLOTLYENV || {};                                    if (document.getElementById(\"3b316c96-1b79-43df-a0fc-0a1478eee7c1\")) {                    Plotly.newPlot(                        \"3b316c96-1b79-43df-a0fc-0a1478eee7c1\",                        [{\"hovertemplate\":\"COD_MARCAV=%{x}<br>EDAD=%{y}<br>suma_cobertura=%{z}<br>cluster=%{marker.color}<extra></extra>\",\"legendgroup\":\"\",\"marker\":{\"color\":[1,1,1,1,1,1,1,1,1,0,1,1,3,3,3,3,1,1,1,1,1,1,3,1,1,1,1,3,1,1,1,1,1,0,0,0,0,1,0,1,1,1,1,1,1,1,1,1,1,0,0,0,0,0,0,0,0,0,0,0,0,0,0,0,0,0,0,0,0,0,0,0,0,0,0,3,0,0,0,0,2,0,2,0,1,1,1],\"coloraxis\":\"coloraxis\",\"symbol\":\"circle\"},\"mode\":\"markers\",\"name\":\"\",\"scene\":\"scene\",\"showlegend\":false,\"x\":[75,73,50,29,43,6,52,28,73,28,29,52,52,52,91,73,52,73,52,43,29,64,73,73,52,47,29,6,52,6,71,10,73,52,52,52,48,73,52,73,73,73,6,29,73,73,73,52,52,44,20,6,73,73,73,29,52,20,73,73,73,73,73,73,73,73,52,52,43,73,44,73,28,52,73,73,59,73,73,73,59,40,43,20,52,19,10],\"y\":[81.0,36.0,51.94805194805195,65.0,65.0,51.94805194805195,49.0,51.0,34.0,42.0,59.0,81.0,52.0,52.0,52.0,65.0,45.0,67.0,47.0,81.0,45.0,69.0,51.94805194805195,51.94805194805195,51.94805194805195,51.94805194805195,51.94805194805195,73.0,24.0,73.0,81.0,81.0,14.0,14.0,14.0,14.0,81.0,42.0,84.0,48.0,51.94805194805195,51.94805194805195,51.94805194805195,33.0,81.0,81.0,81.0,81.0,81.0,81.0,81.0,81.0,14.0,14.0,14.0,14.0,14.0,14.0,14.0,14.0,14.0,14.0,14.0,14.0,14.0,14.0,14.0,14.0,81.0,84.0,84.0,69.0,69.0,84.0,51.0,21.0,81.0,81.0,81.0,81.0,81.0,81.0,81.0,70.0,52.0,41.0,41.0],\"z\":[10000.0,75000.0,10000.0,75000.0,50000.0,147057.178,25000.0,50000.0,36149.4,450000.0,20000.0,28366.905,425000.0,400000.0,300000.0,400000.0,21000.0,25000.0,50000.0,50000.0,13219.038,12180.0,300000.0,20000.0,20000.0,20000.0,20000.0,400000.0,16800.0,150000.0,10249.596000000001,12600.0,128287.084,466052.799,460962.12600000005,461606.973,460582.358,35000.0,479245.48199999996,55000.0,100000.0,100000.0,132935.203,74360.0,85000.0,85000.0,85000.0,100000.0,100000.0,543715.272,528642.228,585842.784,488689.875,485465.72400000005,482241.573,470876.394,459900.15599999996,450000.0,471924.27300000004,471924.27300000004,473858.75100000005,473858.75100000005,473858.75100000005,471924.27300000004,471924.27300000004,471924.27300000004,467404.002,460962.12600000005,543602.519,480711.24,573020.625,514175.223,511875.345,479389.5,450000.0,400000.0,542791.986,504121.53599999996,469412.652,469412.652,702038.4299999999,513552.804,744268.8840000001,470026.23,54784.630000000005,48139.894,50717.056],\"type\":\"scatter3d\"}],                        {\"template\":{\"data\":{\"histogram2dcontour\":[{\"type\":\"histogram2dcontour\",\"colorbar\":{\"outlinewidth\":0,\"ticks\":\"\"},\"colorscale\":[[0.0,\"#0d0887\"],[0.1111111111111111,\"#46039f\"],[0.2222222222222222,\"#7201a8\"],[0.3333333333333333,\"#9c179e\"],[0.4444444444444444,\"#bd3786\"],[0.5555555555555556,\"#d8576b\"],[0.6666666666666666,\"#ed7953\"],[0.7777777777777778,\"#fb9f3a\"],[0.8888888888888888,\"#fdca26\"],[1.0,\"#f0f921\"]]}],\"choropleth\":[{\"type\":\"choropleth\",\"colorbar\":{\"outlinewidth\":0,\"ticks\":\"\"}}],\"histogram2d\":[{\"type\":\"histogram2d\",\"colorbar\":{\"outlinewidth\":0,\"ticks\":\"\"},\"colorscale\":[[0.0,\"#0d0887\"],[0.1111111111111111,\"#46039f\"],[0.2222222222222222,\"#7201a8\"],[0.3333333333333333,\"#9c179e\"],[0.4444444444444444,\"#bd3786\"],[0.5555555555555556,\"#d8576b\"],[0.6666666666666666,\"#ed7953\"],[0.7777777777777778,\"#fb9f3a\"],[0.8888888888888888,\"#fdca26\"],[1.0,\"#f0f921\"]]}],\"heatmap\":[{\"type\":\"heatmap\",\"colorbar\":{\"outlinewidth\":0,\"ticks\":\"\"},\"colorscale\":[[0.0,\"#0d0887\"],[0.1111111111111111,\"#46039f\"],[0.2222222222222222,\"#7201a8\"],[0.3333333333333333,\"#9c179e\"],[0.4444444444444444,\"#bd3786\"],[0.5555555555555556,\"#d8576b\"],[0.6666666666666666,\"#ed7953\"],[0.7777777777777778,\"#fb9f3a\"],[0.8888888888888888,\"#fdca26\"],[1.0,\"#f0f921\"]]}],\"heatmapgl\":[{\"type\":\"heatmapgl\",\"colorbar\":{\"outlinewidth\":0,\"ticks\":\"\"},\"colorscale\":[[0.0,\"#0d0887\"],[0.1111111111111111,\"#46039f\"],[0.2222222222222222,\"#7201a8\"],[0.3333333333333333,\"#9c179e\"],[0.4444444444444444,\"#bd3786\"],[0.5555555555555556,\"#d8576b\"],[0.6666666666666666,\"#ed7953\"],[0.7777777777777778,\"#fb9f3a\"],[0.8888888888888888,\"#fdca26\"],[1.0,\"#f0f921\"]]}],\"contourcarpet\":[{\"type\":\"contourcarpet\",\"colorbar\":{\"outlinewidth\":0,\"ticks\":\"\"}}],\"contour\":[{\"type\":\"contour\",\"colorbar\":{\"outlinewidth\":0,\"ticks\":\"\"},\"colorscale\":[[0.0,\"#0d0887\"],[0.1111111111111111,\"#46039f\"],[0.2222222222222222,\"#7201a8\"],[0.3333333333333333,\"#9c179e\"],[0.4444444444444444,\"#bd3786\"],[0.5555555555555556,\"#d8576b\"],[0.6666666666666666,\"#ed7953\"],[0.7777777777777778,\"#fb9f3a\"],[0.8888888888888888,\"#fdca26\"],[1.0,\"#f0f921\"]]}],\"surface\":[{\"type\":\"surface\",\"colorbar\":{\"outlinewidth\":0,\"ticks\":\"\"},\"colorscale\":[[0.0,\"#0d0887\"],[0.1111111111111111,\"#46039f\"],[0.2222222222222222,\"#7201a8\"],[0.3333333333333333,\"#9c179e\"],[0.4444444444444444,\"#bd3786\"],[0.5555555555555556,\"#d8576b\"],[0.6666666666666666,\"#ed7953\"],[0.7777777777777778,\"#fb9f3a\"],[0.8888888888888888,\"#fdca26\"],[1.0,\"#f0f921\"]]}],\"mesh3d\":[{\"type\":\"mesh3d\",\"colorbar\":{\"outlinewidth\":0,\"ticks\":\"\"}}],\"scatter\":[{\"fillpattern\":{\"fillmode\":\"overlay\",\"size\":10,\"solidity\":0.2},\"type\":\"scatter\"}],\"parcoords\":[{\"type\":\"parcoords\",\"line\":{\"colorbar\":{\"outlinewidth\":0,\"ticks\":\"\"}}}],\"scatterpolargl\":[{\"type\":\"scatterpolargl\",\"marker\":{\"colorbar\":{\"outlinewidth\":0,\"ticks\":\"\"}}}],\"bar\":[{\"error_x\":{\"color\":\"#2a3f5f\"},\"error_y\":{\"color\":\"#2a3f5f\"},\"marker\":{\"line\":{\"color\":\"#E5ECF6\",\"width\":0.5},\"pattern\":{\"fillmode\":\"overlay\",\"size\":10,\"solidity\":0.2}},\"type\":\"bar\"}],\"scattergeo\":[{\"type\":\"scattergeo\",\"marker\":{\"colorbar\":{\"outlinewidth\":0,\"ticks\":\"\"}}}],\"scatterpolar\":[{\"type\":\"scatterpolar\",\"marker\":{\"colorbar\":{\"outlinewidth\":0,\"ticks\":\"\"}}}],\"histogram\":[{\"marker\":{\"pattern\":{\"fillmode\":\"overlay\",\"size\":10,\"solidity\":0.2}},\"type\":\"histogram\"}],\"scattergl\":[{\"type\":\"scattergl\",\"marker\":{\"colorbar\":{\"outlinewidth\":0,\"ticks\":\"\"}}}],\"scatter3d\":[{\"type\":\"scatter3d\",\"line\":{\"colorbar\":{\"outlinewidth\":0,\"ticks\":\"\"}},\"marker\":{\"colorbar\":{\"outlinewidth\":0,\"ticks\":\"\"}}}],\"scattermapbox\":[{\"type\":\"scattermapbox\",\"marker\":{\"colorbar\":{\"outlinewidth\":0,\"ticks\":\"\"}}}],\"scatterternary\":[{\"type\":\"scatterternary\",\"marker\":{\"colorbar\":{\"outlinewidth\":0,\"ticks\":\"\"}}}],\"scattercarpet\":[{\"type\":\"scattercarpet\",\"marker\":{\"colorbar\":{\"outlinewidth\":0,\"ticks\":\"\"}}}],\"carpet\":[{\"aaxis\":{\"endlinecolor\":\"#2a3f5f\",\"gridcolor\":\"white\",\"linecolor\":\"white\",\"minorgridcolor\":\"white\",\"startlinecolor\":\"#2a3f5f\"},\"baxis\":{\"endlinecolor\":\"#2a3f5f\",\"gridcolor\":\"white\",\"linecolor\":\"white\",\"minorgridcolor\":\"white\",\"startlinecolor\":\"#2a3f5f\"},\"type\":\"carpet\"}],\"table\":[{\"cells\":{\"fill\":{\"color\":\"#EBF0F8\"},\"line\":{\"color\":\"white\"}},\"header\":{\"fill\":{\"color\":\"#C8D4E3\"},\"line\":{\"color\":\"white\"}},\"type\":\"table\"}],\"barpolar\":[{\"marker\":{\"line\":{\"color\":\"#E5ECF6\",\"width\":0.5},\"pattern\":{\"fillmode\":\"overlay\",\"size\":10,\"solidity\":0.2}},\"type\":\"barpolar\"}],\"pie\":[{\"automargin\":true,\"type\":\"pie\"}]},\"layout\":{\"autotypenumbers\":\"strict\",\"colorway\":[\"#636efa\",\"#EF553B\",\"#00cc96\",\"#ab63fa\",\"#FFA15A\",\"#19d3f3\",\"#FF6692\",\"#B6E880\",\"#FF97FF\",\"#FECB52\"],\"font\":{\"color\":\"#2a3f5f\"},\"hovermode\":\"closest\",\"hoverlabel\":{\"align\":\"left\"},\"paper_bgcolor\":\"white\",\"plot_bgcolor\":\"#E5ECF6\",\"polar\":{\"bgcolor\":\"#E5ECF6\",\"angularaxis\":{\"gridcolor\":\"white\",\"linecolor\":\"white\",\"ticks\":\"\"},\"radialaxis\":{\"gridcolor\":\"white\",\"linecolor\":\"white\",\"ticks\":\"\"}},\"ternary\":{\"bgcolor\":\"#E5ECF6\",\"aaxis\":{\"gridcolor\":\"white\",\"linecolor\":\"white\",\"ticks\":\"\"},\"baxis\":{\"gridcolor\":\"white\",\"linecolor\":\"white\",\"ticks\":\"\"},\"caxis\":{\"gridcolor\":\"white\",\"linecolor\":\"white\",\"ticks\":\"\"}},\"coloraxis\":{\"colorbar\":{\"outlinewidth\":0,\"ticks\":\"\"}},\"colorscale\":{\"sequential\":[[0.0,\"#0d0887\"],[0.1111111111111111,\"#46039f\"],[0.2222222222222222,\"#7201a8\"],[0.3333333333333333,\"#9c179e\"],[0.4444444444444444,\"#bd3786\"],[0.5555555555555556,\"#d8576b\"],[0.6666666666666666,\"#ed7953\"],[0.7777777777777778,\"#fb9f3a\"],[0.8888888888888888,\"#fdca26\"],[1.0,\"#f0f921\"]],\"sequentialminus\":[[0.0,\"#0d0887\"],[0.1111111111111111,\"#46039f\"],[0.2222222222222222,\"#7201a8\"],[0.3333333333333333,\"#9c179e\"],[0.4444444444444444,\"#bd3786\"],[0.5555555555555556,\"#d8576b\"],[0.6666666666666666,\"#ed7953\"],[0.7777777777777778,\"#fb9f3a\"],[0.8888888888888888,\"#fdca26\"],[1.0,\"#f0f921\"]],\"diverging\":[[0,\"#8e0152\"],[0.1,\"#c51b7d\"],[0.2,\"#de77ae\"],[0.3,\"#f1b6da\"],[0.4,\"#fde0ef\"],[0.5,\"#f7f7f7\"],[0.6,\"#e6f5d0\"],[0.7,\"#b8e186\"],[0.8,\"#7fbc41\"],[0.9,\"#4d9221\"],[1,\"#276419\"]]},\"xaxis\":{\"gridcolor\":\"white\",\"linecolor\":\"white\",\"ticks\":\"\",\"title\":{\"standoff\":15},\"zerolinecolor\":\"white\",\"automargin\":true,\"zerolinewidth\":2},\"yaxis\":{\"gridcolor\":\"white\",\"linecolor\":\"white\",\"ticks\":\"\",\"title\":{\"standoff\":15},\"zerolinecolor\":\"white\",\"automargin\":true,\"zerolinewidth\":2},\"scene\":{\"xaxis\":{\"backgroundcolor\":\"#E5ECF6\",\"gridcolor\":\"white\",\"linecolor\":\"white\",\"showbackground\":true,\"ticks\":\"\",\"zerolinecolor\":\"white\",\"gridwidth\":2},\"yaxis\":{\"backgroundcolor\":\"#E5ECF6\",\"gridcolor\":\"white\",\"linecolor\":\"white\",\"showbackground\":true,\"ticks\":\"\",\"zerolinecolor\":\"white\",\"gridwidth\":2},\"zaxis\":{\"backgroundcolor\":\"#E5ECF6\",\"gridcolor\":\"white\",\"linecolor\":\"white\",\"showbackground\":true,\"ticks\":\"\",\"zerolinecolor\":\"white\",\"gridwidth\":2}},\"shapedefaults\":{\"line\":{\"color\":\"#2a3f5f\"}},\"annotationdefaults\":{\"arrowcolor\":\"#2a3f5f\",\"arrowhead\":0,\"arrowwidth\":1},\"geo\":{\"bgcolor\":\"white\",\"landcolor\":\"#E5ECF6\",\"subunitcolor\":\"white\",\"showland\":true,\"showlakes\":true,\"lakecolor\":\"white\"},\"title\":{\"x\":0.05},\"mapbox\":{\"style\":\"light\"}}},\"scene\":{\"domain\":{\"x\":[0.0,1.0],\"y\":[0.0,1.0]},\"xaxis\":{\"title\":{\"text\":\"COD_MARCAV\"}},\"yaxis\":{\"title\":{\"text\":\"EDAD\"}},\"zaxis\":{\"title\":{\"text\":\"suma_cobertura\"}}},\"coloraxis\":{\"colorbar\":{\"title\":{\"text\":\"cluster\"}},\"colorscale\":[[0.0,\"#0d0887\"],[0.1111111111111111,\"#46039f\"],[0.2222222222222222,\"#7201a8\"],[0.3333333333333333,\"#9c179e\"],[0.4444444444444444,\"#bd3786\"],[0.5555555555555556,\"#d8576b\"],[0.6666666666666666,\"#ed7953\"],[0.7777777777777778,\"#fb9f3a\"],[0.8888888888888888,\"#fdca26\"],[1.0,\"#f0f921\"]]},\"legend\":{\"tracegroupgap\":0},\"margin\":{\"t\":60}},                        {\"responsive\": true}                    ).then(function(){\n",
       "                            \n",
       "var gd = document.getElementById('3b316c96-1b79-43df-a0fc-0a1478eee7c1');\n",
       "var x = new MutationObserver(function (mutations, observer) {{\n",
       "        var display = window.getComputedStyle(gd).display;\n",
       "        if (!display || display === 'none') {{\n",
       "            console.log([gd, 'removed!']);\n",
       "            Plotly.purge(gd);\n",
       "            observer.disconnect();\n",
       "        }}\n",
       "}});\n",
       "\n",
       "// Listen for the removal of the full notebook cells\n",
       "var notebookContainer = gd.closest('#notebook-container');\n",
       "if (notebookContainer) {{\n",
       "    x.observe(notebookContainer, {childList: true});\n",
       "}}\n",
       "\n",
       "// Listen for the clearing of the current output cell\n",
       "var outputEl = gd.closest('.output');\n",
       "if (outputEl) {{\n",
       "    x.observe(outputEl, {childList: true});\n",
       "}}\n",
       "\n",
       "                        })                };                });            </script>        </div>"
      ]
     },
     "metadata": {},
     "output_type": "display_data"
    }
   ],
   "source": [
    "import plotly.express as px\n",
    "#df = px.data.iris()\n",
    "fig = px.scatter_3d(df, x='COD_MARCAV', y='EDAD', z='suma_cobertura',\n",
    "              color='cluster')\n",
    "fig.show()"
   ]
  },
  {
   "cell_type": "code",
   "execution_count": 85,
   "metadata": {},
   "outputs": [
    {
     "name": "stdout",
     "output_type": "stream",
     "text": [
      "0.6759720717553243\n"
     ]
    }
   ],
   "source": [
    "from sklearn.metrics import silhouette_score\n",
    "score = silhouette_score(X,y)\n",
    "print(score)"
   ]
  },
  {
   "cell_type": "code",
   "execution_count": 318,
   "metadata": {},
   "outputs": [
    {
     "data": {
      "text/html": [
       "<div>\n",
       "<style scoped>\n",
       "    .dataframe tbody tr th:only-of-type {\n",
       "        vertical-align: middle;\n",
       "    }\n",
       "\n",
       "    .dataframe tbody tr th {\n",
       "        vertical-align: top;\n",
       "    }\n",
       "\n",
       "    .dataframe thead th {\n",
       "        text-align: right;\n",
       "    }\n",
       "</style>\n",
       "<table border=\"1\" class=\"dataframe\">\n",
       "  <thead>\n",
       "    <tr style=\"text-align: right;\">\n",
       "      <th></th>\n",
       "      <th>NUM_SERIEV</th>\n",
       "      <th>NUM_POL</th>\n",
       "      <th>NUMUNIDADVP</th>\n",
       "      <th>FECINIVIGENTE</th>\n",
       "      <th>FEC_FIN</th>\n",
       "      <th>FEC_ANU</th>\n",
       "      <th>GENERO</th>\n",
       "      <th>EDAD</th>\n",
       "      <th>ANOMVEH</th>\n",
       "      <th>ACREEDOR</th>\n",
       "      <th>...</th>\n",
       "      <th>CANTAC_LC</th>\n",
       "      <th>CANTAC_SO_LC</th>\n",
       "      <th>CANTAC_DP</th>\n",
       "      <th>CANTAC_SO_DP</th>\n",
       "      <th>CANTAC_AM</th>\n",
       "      <th>CANTAC_CP</th>\n",
       "      <th>CANTAC_CO</th>\n",
       "      <th>suma_cobertura</th>\n",
       "      <th>cluster</th>\n",
       "      <th>suma_reclamos</th>\n",
       "    </tr>\n",
       "  </thead>\n",
       "  <tbody>\n",
       "    <tr>\n",
       "      <th>0</th>\n",
       "      <td>159122</td>\n",
       "      <td>32237</td>\n",
       "      <td>16</td>\n",
       "      <td>2013-03-02</td>\n",
       "      <td>2014-03-02</td>\n",
       "      <td>NaT</td>\n",
       "      <td>2</td>\n",
       "      <td>81.000000</td>\n",
       "      <td>2013</td>\n",
       "      <td>1</td>\n",
       "      <td>...</td>\n",
       "      <td>NaN</td>\n",
       "      <td>NaN</td>\n",
       "      <td>NaN</td>\n",
       "      <td>NaN</td>\n",
       "      <td>NaN</td>\n",
       "      <td>NaN</td>\n",
       "      <td>NaN</td>\n",
       "      <td>10000.000</td>\n",
       "      <td>1</td>\n",
       "      <td>0.0000</td>\n",
       "    </tr>\n",
       "    <tr>\n",
       "      <th>1</th>\n",
       "      <td>81506</td>\n",
       "      <td>32245</td>\n",
       "      <td>1</td>\n",
       "      <td>2013-03-27</td>\n",
       "      <td>2014-03-27</td>\n",
       "      <td>NaT</td>\n",
       "      <td>1</td>\n",
       "      <td>36.000000</td>\n",
       "      <td>2009</td>\n",
       "      <td>0</td>\n",
       "      <td>...</td>\n",
       "      <td>0.0</td>\n",
       "      <td>0.0</td>\n",
       "      <td>0.0</td>\n",
       "      <td>0.0</td>\n",
       "      <td>0.0</td>\n",
       "      <td>0.0</td>\n",
       "      <td>1.0</td>\n",
       "      <td>75000.000</td>\n",
       "      <td>1</td>\n",
       "      <td>302.2407</td>\n",
       "    </tr>\n",
       "    <tr>\n",
       "      <th>2</th>\n",
       "      <td>159122</td>\n",
       "      <td>32287</td>\n",
       "      <td>1</td>\n",
       "      <td>2013-05-01</td>\n",
       "      <td>2014-05-01</td>\n",
       "      <td>NaT</td>\n",
       "      <td>2</td>\n",
       "      <td>51.948052</td>\n",
       "      <td>1990</td>\n",
       "      <td>0</td>\n",
       "      <td>...</td>\n",
       "      <td>NaN</td>\n",
       "      <td>NaN</td>\n",
       "      <td>NaN</td>\n",
       "      <td>NaN</td>\n",
       "      <td>NaN</td>\n",
       "      <td>NaN</td>\n",
       "      <td>NaN</td>\n",
       "      <td>10000.000</td>\n",
       "      <td>1</td>\n",
       "      <td>0.0000</td>\n",
       "    </tr>\n",
       "    <tr>\n",
       "      <th>3</th>\n",
       "      <td>112293</td>\n",
       "      <td>32251</td>\n",
       "      <td>1</td>\n",
       "      <td>2013-05-10</td>\n",
       "      <td>2014-05-10</td>\n",
       "      <td>NaT</td>\n",
       "      <td>0</td>\n",
       "      <td>65.000000</td>\n",
       "      <td>2012</td>\n",
       "      <td>1</td>\n",
       "      <td>...</td>\n",
       "      <td>NaN</td>\n",
       "      <td>NaN</td>\n",
       "      <td>NaN</td>\n",
       "      <td>NaN</td>\n",
       "      <td>NaN</td>\n",
       "      <td>NaN</td>\n",
       "      <td>NaN</td>\n",
       "      <td>75000.000</td>\n",
       "      <td>1</td>\n",
       "      <td>0.0000</td>\n",
       "    </tr>\n",
       "    <tr>\n",
       "      <th>4</th>\n",
       "      <td>159707</td>\n",
       "      <td>215402</td>\n",
       "      <td>1</td>\n",
       "      <td>2013-05-14</td>\n",
       "      <td>2014-05-14</td>\n",
       "      <td>NaT</td>\n",
       "      <td>1</td>\n",
       "      <td>65.000000</td>\n",
       "      <td>2004</td>\n",
       "      <td>1</td>\n",
       "      <td>...</td>\n",
       "      <td>NaN</td>\n",
       "      <td>NaN</td>\n",
       "      <td>NaN</td>\n",
       "      <td>NaN</td>\n",
       "      <td>NaN</td>\n",
       "      <td>NaN</td>\n",
       "      <td>NaN</td>\n",
       "      <td>50000.000</td>\n",
       "      <td>1</td>\n",
       "      <td>0.0000</td>\n",
       "    </tr>\n",
       "    <tr>\n",
       "      <th>5</th>\n",
       "      <td>169919</td>\n",
       "      <td>32270</td>\n",
       "      <td>26</td>\n",
       "      <td>2013-06-30</td>\n",
       "      <td>2014-06-30</td>\n",
       "      <td>2014-02-24</td>\n",
       "      <td>2</td>\n",
       "      <td>51.948052</td>\n",
       "      <td>2008</td>\n",
       "      <td>1</td>\n",
       "      <td>...</td>\n",
       "      <td>1.0</td>\n",
       "      <td>0.0</td>\n",
       "      <td>1.0</td>\n",
       "      <td>0.0</td>\n",
       "      <td>0.0</td>\n",
       "      <td>0.0</td>\n",
       "      <td>1.0</td>\n",
       "      <td>147057.178</td>\n",
       "      <td>1</td>\n",
       "      <td>14875.1826</td>\n",
       "    </tr>\n",
       "    <tr>\n",
       "      <th>7</th>\n",
       "      <td>69787</td>\n",
       "      <td>32303</td>\n",
       "      <td>1</td>\n",
       "      <td>2013-08-28</td>\n",
       "      <td>2014-08-28</td>\n",
       "      <td>NaT</td>\n",
       "      <td>1</td>\n",
       "      <td>49.000000</td>\n",
       "      <td>2007</td>\n",
       "      <td>1</td>\n",
       "      <td>...</td>\n",
       "      <td>NaN</td>\n",
       "      <td>NaN</td>\n",
       "      <td>NaN</td>\n",
       "      <td>NaN</td>\n",
       "      <td>NaN</td>\n",
       "      <td>NaN</td>\n",
       "      <td>NaN</td>\n",
       "      <td>25000.000</td>\n",
       "      <td>1</td>\n",
       "      <td>0.0000</td>\n",
       "    </tr>\n",
       "    <tr>\n",
       "      <th>8</th>\n",
       "      <td>52191</td>\n",
       "      <td>32311</td>\n",
       "      <td>1</td>\n",
       "      <td>2013-09-04</td>\n",
       "      <td>2014-09-04</td>\n",
       "      <td>NaT</td>\n",
       "      <td>1</td>\n",
       "      <td>51.000000</td>\n",
       "      <td>2008</td>\n",
       "      <td>1</td>\n",
       "      <td>...</td>\n",
       "      <td>NaN</td>\n",
       "      <td>NaN</td>\n",
       "      <td>NaN</td>\n",
       "      <td>NaN</td>\n",
       "      <td>NaN</td>\n",
       "      <td>NaN</td>\n",
       "      <td>NaN</td>\n",
       "      <td>50000.000</td>\n",
       "      <td>1</td>\n",
       "      <td>0.0000</td>\n",
       "    </tr>\n",
       "    <tr>\n",
       "      <th>9</th>\n",
       "      <td>86272</td>\n",
       "      <td>32312</td>\n",
       "      <td>1</td>\n",
       "      <td>2013-09-13</td>\n",
       "      <td>2014-09-13</td>\n",
       "      <td>NaT</td>\n",
       "      <td>1</td>\n",
       "      <td>34.000000</td>\n",
       "      <td>2006</td>\n",
       "      <td>1</td>\n",
       "      <td>...</td>\n",
       "      <td>0.0</td>\n",
       "      <td>0.0</td>\n",
       "      <td>1.0</td>\n",
       "      <td>0.0</td>\n",
       "      <td>0.0</td>\n",
       "      <td>0.0</td>\n",
       "      <td>0.0</td>\n",
       "      <td>36149.400</td>\n",
       "      <td>1</td>\n",
       "      <td>597.3576</td>\n",
       "    </tr>\n",
       "    <tr>\n",
       "      <th>11</th>\n",
       "      <td>109555</td>\n",
       "      <td>32323</td>\n",
       "      <td>1</td>\n",
       "      <td>2013-10-18</td>\n",
       "      <td>2014-10-18</td>\n",
       "      <td>2014-10-18</td>\n",
       "      <td>1</td>\n",
       "      <td>59.000000</td>\n",
       "      <td>2006</td>\n",
       "      <td>1</td>\n",
       "      <td>...</td>\n",
       "      <td>NaN</td>\n",
       "      <td>NaN</td>\n",
       "      <td>NaN</td>\n",
       "      <td>NaN</td>\n",
       "      <td>NaN</td>\n",
       "      <td>NaN</td>\n",
       "      <td>NaN</td>\n",
       "      <td>20000.000</td>\n",
       "      <td>1</td>\n",
       "      <td>0.0000</td>\n",
       "    </tr>\n",
       "    <tr>\n",
       "      <th>12</th>\n",
       "      <td>31083</td>\n",
       "      <td>32309</td>\n",
       "      <td>227</td>\n",
       "      <td>2013-10-18</td>\n",
       "      <td>2014-09-28</td>\n",
       "      <td>NaT</td>\n",
       "      <td>2</td>\n",
       "      <td>81.000000</td>\n",
       "      <td>2009</td>\n",
       "      <td>1</td>\n",
       "      <td>...</td>\n",
       "      <td>NaN</td>\n",
       "      <td>NaN</td>\n",
       "      <td>NaN</td>\n",
       "      <td>NaN</td>\n",
       "      <td>NaN</td>\n",
       "      <td>NaN</td>\n",
       "      <td>NaN</td>\n",
       "      <td>28366.905</td>\n",
       "      <td>1</td>\n",
       "      <td>0.0000</td>\n",
       "    </tr>\n",
       "    <tr>\n",
       "      <th>19</th>\n",
       "      <td>63776</td>\n",
       "      <td>32327</td>\n",
       "      <td>1</td>\n",
       "      <td>2013-11-28</td>\n",
       "      <td>2014-11-28</td>\n",
       "      <td>NaT</td>\n",
       "      <td>1</td>\n",
       "      <td>45.000000</td>\n",
       "      <td>2009</td>\n",
       "      <td>0</td>\n",
       "      <td>...</td>\n",
       "      <td>NaN</td>\n",
       "      <td>NaN</td>\n",
       "      <td>NaN</td>\n",
       "      <td>NaN</td>\n",
       "      <td>NaN</td>\n",
       "      <td>NaN</td>\n",
       "      <td>NaN</td>\n",
       "      <td>21000.000</td>\n",
       "      <td>1</td>\n",
       "      <td>0.0000</td>\n",
       "    </tr>\n",
       "    <tr>\n",
       "      <th>20</th>\n",
       "      <td>77514</td>\n",
       "      <td>32357</td>\n",
       "      <td>1</td>\n",
       "      <td>2013-12-06</td>\n",
       "      <td>2014-12-06</td>\n",
       "      <td>NaT</td>\n",
       "      <td>1</td>\n",
       "      <td>67.000000</td>\n",
       "      <td>2011</td>\n",
       "      <td>0</td>\n",
       "      <td>...</td>\n",
       "      <td>NaN</td>\n",
       "      <td>NaN</td>\n",
       "      <td>NaN</td>\n",
       "      <td>NaN</td>\n",
       "      <td>NaN</td>\n",
       "      <td>NaN</td>\n",
       "      <td>NaN</td>\n",
       "      <td>25000.000</td>\n",
       "      <td>1</td>\n",
       "      <td>0.0000</td>\n",
       "    </tr>\n",
       "    <tr>\n",
       "      <th>21</th>\n",
       "      <td>165015</td>\n",
       "      <td>33183</td>\n",
       "      <td>1</td>\n",
       "      <td>2013-12-26</td>\n",
       "      <td>2014-12-26</td>\n",
       "      <td>NaT</td>\n",
       "      <td>1</td>\n",
       "      <td>47.000000</td>\n",
       "      <td>2014</td>\n",
       "      <td>1</td>\n",
       "      <td>...</td>\n",
       "      <td>NaN</td>\n",
       "      <td>NaN</td>\n",
       "      <td>NaN</td>\n",
       "      <td>NaN</td>\n",
       "      <td>NaN</td>\n",
       "      <td>NaN</td>\n",
       "      <td>NaN</td>\n",
       "      <td>50000.000</td>\n",
       "      <td>1</td>\n",
       "      <td>0.0000</td>\n",
       "    </tr>\n",
       "    <tr>\n",
       "      <th>22</th>\n",
       "      <td>159773</td>\n",
       "      <td>33207</td>\n",
       "      <td>1</td>\n",
       "      <td>2013-12-27</td>\n",
       "      <td>2014-12-27</td>\n",
       "      <td>2014-11-30</td>\n",
       "      <td>2</td>\n",
       "      <td>81.000000</td>\n",
       "      <td>2013</td>\n",
       "      <td>1</td>\n",
       "      <td>...</td>\n",
       "      <td>NaN</td>\n",
       "      <td>NaN</td>\n",
       "      <td>NaN</td>\n",
       "      <td>NaN</td>\n",
       "      <td>NaN</td>\n",
       "      <td>NaN</td>\n",
       "      <td>NaN</td>\n",
       "      <td>50000.000</td>\n",
       "      <td>1</td>\n",
       "      <td>0.0000</td>\n",
       "    </tr>\n",
       "    <tr>\n",
       "      <th>23</th>\n",
       "      <td>111274</td>\n",
       "      <td>32364</td>\n",
       "      <td>1</td>\n",
       "      <td>2013-12-28</td>\n",
       "      <td>2014-12-28</td>\n",
       "      <td>NaT</td>\n",
       "      <td>1</td>\n",
       "      <td>45.000000</td>\n",
       "      <td>2011</td>\n",
       "      <td>1</td>\n",
       "      <td>...</td>\n",
       "      <td>NaN</td>\n",
       "      <td>NaN</td>\n",
       "      <td>NaN</td>\n",
       "      <td>NaN</td>\n",
       "      <td>NaN</td>\n",
       "      <td>NaN</td>\n",
       "      <td>NaN</td>\n",
       "      <td>13219.038</td>\n",
       "      <td>1</td>\n",
       "      <td>0.0000</td>\n",
       "    </tr>\n",
       "    <tr>\n",
       "      <th>24</th>\n",
       "      <td>164551</td>\n",
       "      <td>32351</td>\n",
       "      <td>1</td>\n",
       "      <td>2013-12-30</td>\n",
       "      <td>2014-12-30</td>\n",
       "      <td>NaT</td>\n",
       "      <td>1</td>\n",
       "      <td>69.000000</td>\n",
       "      <td>2005</td>\n",
       "      <td>1</td>\n",
       "      <td>...</td>\n",
       "      <td>NaN</td>\n",
       "      <td>NaN</td>\n",
       "      <td>NaN</td>\n",
       "      <td>NaN</td>\n",
       "      <td>NaN</td>\n",
       "      <td>NaN</td>\n",
       "      <td>NaN</td>\n",
       "      <td>12180.000</td>\n",
       "      <td>1</td>\n",
       "      <td>0.0000</td>\n",
       "    </tr>\n",
       "    <tr>\n",
       "      <th>26</th>\n",
       "      <td>153751</td>\n",
       "      <td>32385</td>\n",
       "      <td>6</td>\n",
       "      <td>2013-12-31</td>\n",
       "      <td>2014-12-31</td>\n",
       "      <td>NaT</td>\n",
       "      <td>2</td>\n",
       "      <td>51.948052</td>\n",
       "      <td>2010</td>\n",
       "      <td>1</td>\n",
       "      <td>...</td>\n",
       "      <td>NaN</td>\n",
       "      <td>NaN</td>\n",
       "      <td>NaN</td>\n",
       "      <td>NaN</td>\n",
       "      <td>NaN</td>\n",
       "      <td>NaN</td>\n",
       "      <td>NaN</td>\n",
       "      <td>20000.000</td>\n",
       "      <td>1</td>\n",
       "      <td>0.0000</td>\n",
       "    </tr>\n",
       "    <tr>\n",
       "      <th>27</th>\n",
       "      <td>146771</td>\n",
       "      <td>32385</td>\n",
       "      <td>7</td>\n",
       "      <td>2013-12-31</td>\n",
       "      <td>2014-12-31</td>\n",
       "      <td>2014-11-18</td>\n",
       "      <td>2</td>\n",
       "      <td>51.948052</td>\n",
       "      <td>2009</td>\n",
       "      <td>1</td>\n",
       "      <td>...</td>\n",
       "      <td>1.0</td>\n",
       "      <td>0.0</td>\n",
       "      <td>1.0</td>\n",
       "      <td>0.0</td>\n",
       "      <td>0.0</td>\n",
       "      <td>0.0</td>\n",
       "      <td>1.0</td>\n",
       "      <td>20000.000</td>\n",
       "      <td>1</td>\n",
       "      <td>1456.8078</td>\n",
       "    </tr>\n",
       "    <tr>\n",
       "      <th>28</th>\n",
       "      <td>143947</td>\n",
       "      <td>32385</td>\n",
       "      <td>9</td>\n",
       "      <td>2013-12-31</td>\n",
       "      <td>2014-12-31</td>\n",
       "      <td>NaT</td>\n",
       "      <td>2</td>\n",
       "      <td>51.948052</td>\n",
       "      <td>2010</td>\n",
       "      <td>1</td>\n",
       "      <td>...</td>\n",
       "      <td>0.0</td>\n",
       "      <td>0.0</td>\n",
       "      <td>1.0</td>\n",
       "      <td>0.0</td>\n",
       "      <td>0.0</td>\n",
       "      <td>0.0</td>\n",
       "      <td>0.0</td>\n",
       "      <td>20000.000</td>\n",
       "      <td>1</td>\n",
       "      <td>418.5000</td>\n",
       "    </tr>\n",
       "    <tr>\n",
       "      <th>29</th>\n",
       "      <td>102597</td>\n",
       "      <td>32385</td>\n",
       "      <td>14</td>\n",
       "      <td>2013-12-31</td>\n",
       "      <td>2014-12-31</td>\n",
       "      <td>NaT</td>\n",
       "      <td>2</td>\n",
       "      <td>51.948052</td>\n",
       "      <td>2013</td>\n",
       "      <td>1</td>\n",
       "      <td>...</td>\n",
       "      <td>NaN</td>\n",
       "      <td>NaN</td>\n",
       "      <td>NaN</td>\n",
       "      <td>NaN</td>\n",
       "      <td>NaN</td>\n",
       "      <td>NaN</td>\n",
       "      <td>NaN</td>\n",
       "      <td>20000.000</td>\n",
       "      <td>1</td>\n",
       "      <td>0.0000</td>\n",
       "    </tr>\n",
       "    <tr>\n",
       "      <th>32</th>\n",
       "      <td>132249</td>\n",
       "      <td>32390</td>\n",
       "      <td>323</td>\n",
       "      <td>2013-12-31</td>\n",
       "      <td>2014-12-31</td>\n",
       "      <td>NaT</td>\n",
       "      <td>2</td>\n",
       "      <td>24.000000</td>\n",
       "      <td>2008</td>\n",
       "      <td>1</td>\n",
       "      <td>...</td>\n",
       "      <td>NaN</td>\n",
       "      <td>NaN</td>\n",
       "      <td>NaN</td>\n",
       "      <td>NaN</td>\n",
       "      <td>NaN</td>\n",
       "      <td>NaN</td>\n",
       "      <td>NaN</td>\n",
       "      <td>16800.000</td>\n",
       "      <td>1</td>\n",
       "      <td>0.0000</td>\n",
       "    </tr>\n",
       "    <tr>\n",
       "      <th>39</th>\n",
       "      <td>168535</td>\n",
       "      <td>215882</td>\n",
       "      <td>1</td>\n",
       "      <td>2013-12-31</td>\n",
       "      <td>2014-12-31</td>\n",
       "      <td>2014-08-01</td>\n",
       "      <td>1</td>\n",
       "      <td>73.000000</td>\n",
       "      <td>2008</td>\n",
       "      <td>1</td>\n",
       "      <td>...</td>\n",
       "      <td>NaN</td>\n",
       "      <td>NaN</td>\n",
       "      <td>NaN</td>\n",
       "      <td>NaN</td>\n",
       "      <td>NaN</td>\n",
       "      <td>NaN</td>\n",
       "      <td>NaN</td>\n",
       "      <td>150000.000</td>\n",
       "      <td>1</td>\n",
       "      <td>0.0000</td>\n",
       "    </tr>\n",
       "    <tr>\n",
       "      <th>41</th>\n",
       "      <td>73090</td>\n",
       "      <td>33051</td>\n",
       "      <td>1</td>\n",
       "      <td>2013-12-31</td>\n",
       "      <td>2014-12-31</td>\n",
       "      <td>NaT</td>\n",
       "      <td>2</td>\n",
       "      <td>81.000000</td>\n",
       "      <td>2008</td>\n",
       "      <td>1</td>\n",
       "      <td>...</td>\n",
       "      <td>0.0</td>\n",
       "      <td>0.0</td>\n",
       "      <td>1.0</td>\n",
       "      <td>0.0</td>\n",
       "      <td>0.0</td>\n",
       "      <td>0.0</td>\n",
       "      <td>1.0</td>\n",
       "      <td>10249.596</td>\n",
       "      <td>1</td>\n",
       "      <td>2878.3779</td>\n",
       "    </tr>\n",
       "    <tr>\n",
       "      <th>42</th>\n",
       "      <td>96499</td>\n",
       "      <td>33176</td>\n",
       "      <td>3</td>\n",
       "      <td>2013-12-31</td>\n",
       "      <td>2014-12-31</td>\n",
       "      <td>NaT</td>\n",
       "      <td>2</td>\n",
       "      <td>81.000000</td>\n",
       "      <td>2007</td>\n",
       "      <td>1</td>\n",
       "      <td>...</td>\n",
       "      <td>NaN</td>\n",
       "      <td>NaN</td>\n",
       "      <td>NaN</td>\n",
       "      <td>NaN</td>\n",
       "      <td>NaN</td>\n",
       "      <td>NaN</td>\n",
       "      <td>NaN</td>\n",
       "      <td>12600.000</td>\n",
       "      <td>1</td>\n",
       "      <td>0.0000</td>\n",
       "    </tr>\n",
       "    <tr>\n",
       "      <th>44</th>\n",
       "      <td>90814</td>\n",
       "      <td>33054</td>\n",
       "      <td>38</td>\n",
       "      <td>2014-01-01</td>\n",
       "      <td>2015-01-01</td>\n",
       "      <td>2014-01-01</td>\n",
       "      <td>2</td>\n",
       "      <td>14.000000</td>\n",
       "      <td>2008</td>\n",
       "      <td>1</td>\n",
       "      <td>...</td>\n",
       "      <td>NaN</td>\n",
       "      <td>NaN</td>\n",
       "      <td>NaN</td>\n",
       "      <td>NaN</td>\n",
       "      <td>NaN</td>\n",
       "      <td>NaN</td>\n",
       "      <td>NaN</td>\n",
       "      <td>128287.084</td>\n",
       "      <td>1</td>\n",
       "      <td>0.0000</td>\n",
       "    </tr>\n",
       "    <tr>\n",
       "      <th>49</th>\n",
       "      <td>80696</td>\n",
       "      <td>216554</td>\n",
       "      <td>1</td>\n",
       "      <td>2014-01-01</td>\n",
       "      <td>2015-01-01</td>\n",
       "      <td>2014-01-01</td>\n",
       "      <td>0</td>\n",
       "      <td>42.000000</td>\n",
       "      <td>2001</td>\n",
       "      <td>1</td>\n",
       "      <td>...</td>\n",
       "      <td>NaN</td>\n",
       "      <td>NaN</td>\n",
       "      <td>NaN</td>\n",
       "      <td>NaN</td>\n",
       "      <td>NaN</td>\n",
       "      <td>NaN</td>\n",
       "      <td>NaN</td>\n",
       "      <td>35000.000</td>\n",
       "      <td>1</td>\n",
       "      <td>0.0000</td>\n",
       "    </tr>\n",
       "    <tr>\n",
       "      <th>51</th>\n",
       "      <td>77617</td>\n",
       "      <td>216414</td>\n",
       "      <td>1</td>\n",
       "      <td>2014-01-01</td>\n",
       "      <td>2015-01-01</td>\n",
       "      <td>NaT</td>\n",
       "      <td>1</td>\n",
       "      <td>48.000000</td>\n",
       "      <td>2007</td>\n",
       "      <td>1</td>\n",
       "      <td>...</td>\n",
       "      <td>NaN</td>\n",
       "      <td>NaN</td>\n",
       "      <td>NaN</td>\n",
       "      <td>NaN</td>\n",
       "      <td>NaN</td>\n",
       "      <td>NaN</td>\n",
       "      <td>NaN</td>\n",
       "      <td>55000.000</td>\n",
       "      <td>1</td>\n",
       "      <td>0.0000</td>\n",
       "    </tr>\n",
       "    <tr>\n",
       "      <th>52</th>\n",
       "      <td>81958</td>\n",
       "      <td>33249</td>\n",
       "      <td>2</td>\n",
       "      <td>2014-01-01</td>\n",
       "      <td>2015-01-01</td>\n",
       "      <td>NaT</td>\n",
       "      <td>2</td>\n",
       "      <td>51.948052</td>\n",
       "      <td>2005</td>\n",
       "      <td>1</td>\n",
       "      <td>...</td>\n",
       "      <td>NaN</td>\n",
       "      <td>NaN</td>\n",
       "      <td>NaN</td>\n",
       "      <td>NaN</td>\n",
       "      <td>NaN</td>\n",
       "      <td>NaN</td>\n",
       "      <td>NaN</td>\n",
       "      <td>100000.000</td>\n",
       "      <td>1</td>\n",
       "      <td>0.0000</td>\n",
       "    </tr>\n",
       "    <tr>\n",
       "      <th>53</th>\n",
       "      <td>82010</td>\n",
       "      <td>33249</td>\n",
       "      <td>3</td>\n",
       "      <td>2014-01-01</td>\n",
       "      <td>2015-01-01</td>\n",
       "      <td>NaT</td>\n",
       "      <td>2</td>\n",
       "      <td>51.948052</td>\n",
       "      <td>2006</td>\n",
       "      <td>1</td>\n",
       "      <td>...</td>\n",
       "      <td>NaN</td>\n",
       "      <td>NaN</td>\n",
       "      <td>NaN</td>\n",
       "      <td>NaN</td>\n",
       "      <td>NaN</td>\n",
       "      <td>NaN</td>\n",
       "      <td>NaN</td>\n",
       "      <td>100000.000</td>\n",
       "      <td>1</td>\n",
       "      <td>0.0000</td>\n",
       "    </tr>\n",
       "    <tr>\n",
       "      <th>54</th>\n",
       "      <td>168503</td>\n",
       "      <td>33261</td>\n",
       "      <td>1</td>\n",
       "      <td>2014-01-01</td>\n",
       "      <td>2015-01-01</td>\n",
       "      <td>NaT</td>\n",
       "      <td>2</td>\n",
       "      <td>51.948052</td>\n",
       "      <td>2006</td>\n",
       "      <td>1</td>\n",
       "      <td>...</td>\n",
       "      <td>NaN</td>\n",
       "      <td>NaN</td>\n",
       "      <td>NaN</td>\n",
       "      <td>NaN</td>\n",
       "      <td>NaN</td>\n",
       "      <td>NaN</td>\n",
       "      <td>NaN</td>\n",
       "      <td>132935.203</td>\n",
       "      <td>1</td>\n",
       "      <td>0.0000</td>\n",
       "    </tr>\n",
       "    <tr>\n",
       "      <th>55</th>\n",
       "      <td>105422</td>\n",
       "      <td>33032</td>\n",
       "      <td>1</td>\n",
       "      <td>2014-01-01</td>\n",
       "      <td>2015-01-01</td>\n",
       "      <td>NaT</td>\n",
       "      <td>1</td>\n",
       "      <td>33.000000</td>\n",
       "      <td>2012</td>\n",
       "      <td>0</td>\n",
       "      <td>...</td>\n",
       "      <td>0.0</td>\n",
       "      <td>0.0</td>\n",
       "      <td>0.0</td>\n",
       "      <td>0.0</td>\n",
       "      <td>0.0</td>\n",
       "      <td>0.0</td>\n",
       "      <td>1.0</td>\n",
       "      <td>74360.000</td>\n",
       "      <td>1</td>\n",
       "      <td>1612.7316</td>\n",
       "    </tr>\n",
       "    <tr>\n",
       "      <th>56</th>\n",
       "      <td>159122</td>\n",
       "      <td>34495</td>\n",
       "      <td>4</td>\n",
       "      <td>2014-01-01</td>\n",
       "      <td>2015-01-01</td>\n",
       "      <td>NaT</td>\n",
       "      <td>2</td>\n",
       "      <td>81.000000</td>\n",
       "      <td>2004</td>\n",
       "      <td>1</td>\n",
       "      <td>...</td>\n",
       "      <td>NaN</td>\n",
       "      <td>NaN</td>\n",
       "      <td>NaN</td>\n",
       "      <td>NaN</td>\n",
       "      <td>NaN</td>\n",
       "      <td>NaN</td>\n",
       "      <td>NaN</td>\n",
       "      <td>85000.000</td>\n",
       "      <td>1</td>\n",
       "      <td>0.0000</td>\n",
       "    </tr>\n",
       "    <tr>\n",
       "      <th>57</th>\n",
       "      <td>81731</td>\n",
       "      <td>34495</td>\n",
       "      <td>9</td>\n",
       "      <td>2014-01-01</td>\n",
       "      <td>2015-01-01</td>\n",
       "      <td>NaT</td>\n",
       "      <td>2</td>\n",
       "      <td>81.000000</td>\n",
       "      <td>2005</td>\n",
       "      <td>1</td>\n",
       "      <td>...</td>\n",
       "      <td>NaN</td>\n",
       "      <td>NaN</td>\n",
       "      <td>NaN</td>\n",
       "      <td>NaN</td>\n",
       "      <td>NaN</td>\n",
       "      <td>NaN</td>\n",
       "      <td>NaN</td>\n",
       "      <td>85000.000</td>\n",
       "      <td>1</td>\n",
       "      <td>0.0000</td>\n",
       "    </tr>\n",
       "    <tr>\n",
       "      <th>58</th>\n",
       "      <td>159122</td>\n",
       "      <td>34495</td>\n",
       "      <td>10</td>\n",
       "      <td>2014-01-01</td>\n",
       "      <td>2015-01-01</td>\n",
       "      <td>NaT</td>\n",
       "      <td>2</td>\n",
       "      <td>81.000000</td>\n",
       "      <td>2005</td>\n",
       "      <td>1</td>\n",
       "      <td>...</td>\n",
       "      <td>NaN</td>\n",
       "      <td>NaN</td>\n",
       "      <td>NaN</td>\n",
       "      <td>NaN</td>\n",
       "      <td>NaN</td>\n",
       "      <td>NaN</td>\n",
       "      <td>NaN</td>\n",
       "      <td>85000.000</td>\n",
       "      <td>1</td>\n",
       "      <td>0.0000</td>\n",
       "    </tr>\n",
       "    <tr>\n",
       "      <th>59</th>\n",
       "      <td>63687</td>\n",
       "      <td>34495</td>\n",
       "      <td>12</td>\n",
       "      <td>2014-01-01</td>\n",
       "      <td>2015-01-01</td>\n",
       "      <td>NaT</td>\n",
       "      <td>2</td>\n",
       "      <td>81.000000</td>\n",
       "      <td>2006</td>\n",
       "      <td>1</td>\n",
       "      <td>...</td>\n",
       "      <td>NaN</td>\n",
       "      <td>NaN</td>\n",
       "      <td>NaN</td>\n",
       "      <td>NaN</td>\n",
       "      <td>NaN</td>\n",
       "      <td>NaN</td>\n",
       "      <td>NaN</td>\n",
       "      <td>100000.000</td>\n",
       "      <td>1</td>\n",
       "      <td>0.0000</td>\n",
       "    </tr>\n",
       "    <tr>\n",
       "      <th>60</th>\n",
       "      <td>63688</td>\n",
       "      <td>34495</td>\n",
       "      <td>13</td>\n",
       "      <td>2014-01-01</td>\n",
       "      <td>2015-01-01</td>\n",
       "      <td>NaT</td>\n",
       "      <td>2</td>\n",
       "      <td>81.000000</td>\n",
       "      <td>2006</td>\n",
       "      <td>1</td>\n",
       "      <td>...</td>\n",
       "      <td>1.0</td>\n",
       "      <td>0.0</td>\n",
       "      <td>1.0</td>\n",
       "      <td>0.0</td>\n",
       "      <td>0.0</td>\n",
       "      <td>0.0</td>\n",
       "      <td>0.0</td>\n",
       "      <td>100000.000</td>\n",
       "      <td>1</td>\n",
       "      <td>856.8369</td>\n",
       "    </tr>\n",
       "    <tr>\n",
       "      <th>97</th>\n",
       "      <td>159122</td>\n",
       "      <td>32526</td>\n",
       "      <td>1</td>\n",
       "      <td>2014-01-01</td>\n",
       "      <td>2015-01-01</td>\n",
       "      <td>NaT</td>\n",
       "      <td>1</td>\n",
       "      <td>52.000000</td>\n",
       "      <td>2004</td>\n",
       "      <td>0</td>\n",
       "      <td>...</td>\n",
       "      <td>NaN</td>\n",
       "      <td>NaN</td>\n",
       "      <td>NaN</td>\n",
       "      <td>NaN</td>\n",
       "      <td>NaN</td>\n",
       "      <td>NaN</td>\n",
       "      <td>NaN</td>\n",
       "      <td>54784.630</td>\n",
       "      <td>1</td>\n",
       "      <td>0.0000</td>\n",
       "    </tr>\n",
       "    <tr>\n",
       "      <th>98</th>\n",
       "      <td>159122</td>\n",
       "      <td>32522</td>\n",
       "      <td>1</td>\n",
       "      <td>2014-01-01</td>\n",
       "      <td>2015-01-01</td>\n",
       "      <td>NaT</td>\n",
       "      <td>1</td>\n",
       "      <td>41.000000</td>\n",
       "      <td>2006</td>\n",
       "      <td>0</td>\n",
       "      <td>...</td>\n",
       "      <td>NaN</td>\n",
       "      <td>NaN</td>\n",
       "      <td>NaN</td>\n",
       "      <td>NaN</td>\n",
       "      <td>NaN</td>\n",
       "      <td>NaN</td>\n",
       "      <td>NaN</td>\n",
       "      <td>48139.894</td>\n",
       "      <td>1</td>\n",
       "      <td>0.0000</td>\n",
       "    </tr>\n",
       "    <tr>\n",
       "      <th>99</th>\n",
       "      <td>159122</td>\n",
       "      <td>32523</td>\n",
       "      <td>1</td>\n",
       "      <td>2014-01-01</td>\n",
       "      <td>2015-01-01</td>\n",
       "      <td>NaT</td>\n",
       "      <td>1</td>\n",
       "      <td>41.000000</td>\n",
       "      <td>2007</td>\n",
       "      <td>0</td>\n",
       "      <td>...</td>\n",
       "      <td>NaN</td>\n",
       "      <td>NaN</td>\n",
       "      <td>NaN</td>\n",
       "      <td>NaN</td>\n",
       "      <td>NaN</td>\n",
       "      <td>NaN</td>\n",
       "      <td>NaN</td>\n",
       "      <td>50717.056</td>\n",
       "      <td>1</td>\n",
       "      <td>0.0000</td>\n",
       "    </tr>\n",
       "  </tbody>\n",
       "</table>\n",
       "<p>40 rows × 36 columns</p>\n",
       "</div>"
      ],
      "text/plain": [
       "    NUM_SERIEV   NUM_POL  NUMUNIDADVP FECINIVIGENTE    FEC_FIN    FEC_ANU  \\\n",
       "0        159122    32237           16    2013-03-02 2014-03-02        NaT   \n",
       "1         81506    32245            1    2013-03-27 2014-03-27        NaT   \n",
       "2        159122    32287            1    2013-05-01 2014-05-01        NaT   \n",
       "3        112293    32251            1    2013-05-10 2014-05-10        NaT   \n",
       "4        159707   215402            1    2013-05-14 2014-05-14        NaT   \n",
       "5        169919    32270           26    2013-06-30 2014-06-30 2014-02-24   \n",
       "7         69787    32303            1    2013-08-28 2014-08-28        NaT   \n",
       "8         52191    32311            1    2013-09-04 2014-09-04        NaT   \n",
       "9         86272    32312            1    2013-09-13 2014-09-13        NaT   \n",
       "11       109555    32323            1    2013-10-18 2014-10-18 2014-10-18   \n",
       "12        31083    32309          227    2013-10-18 2014-09-28        NaT   \n",
       "19        63776    32327            1    2013-11-28 2014-11-28        NaT   \n",
       "20        77514    32357            1    2013-12-06 2014-12-06        NaT   \n",
       "21       165015    33183            1    2013-12-26 2014-12-26        NaT   \n",
       "22       159773    33207            1    2013-12-27 2014-12-27 2014-11-30   \n",
       "23       111274    32364            1    2013-12-28 2014-12-28        NaT   \n",
       "24       164551    32351            1    2013-12-30 2014-12-30        NaT   \n",
       "26       153751    32385            6    2013-12-31 2014-12-31        NaT   \n",
       "27       146771    32385            7    2013-12-31 2014-12-31 2014-11-18   \n",
       "28       143947    32385            9    2013-12-31 2014-12-31        NaT   \n",
       "29       102597    32385           14    2013-12-31 2014-12-31        NaT   \n",
       "32       132249    32390          323    2013-12-31 2014-12-31        NaT   \n",
       "39       168535   215882            1    2013-12-31 2014-12-31 2014-08-01   \n",
       "41        73090    33051            1    2013-12-31 2014-12-31        NaT   \n",
       "42        96499    33176            3    2013-12-31 2014-12-31        NaT   \n",
       "44        90814    33054           38    2014-01-01 2015-01-01 2014-01-01   \n",
       "49        80696   216554            1    2014-01-01 2015-01-01 2014-01-01   \n",
       "51        77617   216414            1    2014-01-01 2015-01-01        NaT   \n",
       "52        81958    33249            2    2014-01-01 2015-01-01        NaT   \n",
       "53        82010    33249            3    2014-01-01 2015-01-01        NaT   \n",
       "54       168503    33261            1    2014-01-01 2015-01-01        NaT   \n",
       "55       105422    33032            1    2014-01-01 2015-01-01        NaT   \n",
       "56       159122    34495            4    2014-01-01 2015-01-01        NaT   \n",
       "57        81731    34495            9    2014-01-01 2015-01-01        NaT   \n",
       "58       159122    34495           10    2014-01-01 2015-01-01        NaT   \n",
       "59        63687    34495           12    2014-01-01 2015-01-01        NaT   \n",
       "60        63688    34495           13    2014-01-01 2015-01-01        NaT   \n",
       "97       159122    32526            1    2014-01-01 2015-01-01        NaT   \n",
       "98       159122    32522            1    2014-01-01 2015-01-01        NaT   \n",
       "99       159122    32523            1    2014-01-01 2015-01-01        NaT   \n",
       "\n",
       "    GENERO       EDAD  ANOMVEH  ACREEDOR  ...  CANTAC_LC  CANTAC_SO_LC  \\\n",
       "0        2  81.000000     2013         1  ...        NaN           NaN   \n",
       "1        1  36.000000     2009         0  ...        0.0           0.0   \n",
       "2        2  51.948052     1990         0  ...        NaN           NaN   \n",
       "3        0  65.000000     2012         1  ...        NaN           NaN   \n",
       "4        1  65.000000     2004         1  ...        NaN           NaN   \n",
       "5        2  51.948052     2008         1  ...        1.0           0.0   \n",
       "7        1  49.000000     2007         1  ...        NaN           NaN   \n",
       "8        1  51.000000     2008         1  ...        NaN           NaN   \n",
       "9        1  34.000000     2006         1  ...        0.0           0.0   \n",
       "11       1  59.000000     2006         1  ...        NaN           NaN   \n",
       "12       2  81.000000     2009         1  ...        NaN           NaN   \n",
       "19       1  45.000000     2009         0  ...        NaN           NaN   \n",
       "20       1  67.000000     2011         0  ...        NaN           NaN   \n",
       "21       1  47.000000     2014         1  ...        NaN           NaN   \n",
       "22       2  81.000000     2013         1  ...        NaN           NaN   \n",
       "23       1  45.000000     2011         1  ...        NaN           NaN   \n",
       "24       1  69.000000     2005         1  ...        NaN           NaN   \n",
       "26       2  51.948052     2010         1  ...        NaN           NaN   \n",
       "27       2  51.948052     2009         1  ...        1.0           0.0   \n",
       "28       2  51.948052     2010         1  ...        0.0           0.0   \n",
       "29       2  51.948052     2013         1  ...        NaN           NaN   \n",
       "32       2  24.000000     2008         1  ...        NaN           NaN   \n",
       "39       1  73.000000     2008         1  ...        NaN           NaN   \n",
       "41       2  81.000000     2008         1  ...        0.0           0.0   \n",
       "42       2  81.000000     2007         1  ...        NaN           NaN   \n",
       "44       2  14.000000     2008         1  ...        NaN           NaN   \n",
       "49       0  42.000000     2001         1  ...        NaN           NaN   \n",
       "51       1  48.000000     2007         1  ...        NaN           NaN   \n",
       "52       2  51.948052     2005         1  ...        NaN           NaN   \n",
       "53       2  51.948052     2006         1  ...        NaN           NaN   \n",
       "54       2  51.948052     2006         1  ...        NaN           NaN   \n",
       "55       1  33.000000     2012         0  ...        0.0           0.0   \n",
       "56       2  81.000000     2004         1  ...        NaN           NaN   \n",
       "57       2  81.000000     2005         1  ...        NaN           NaN   \n",
       "58       2  81.000000     2005         1  ...        NaN           NaN   \n",
       "59       2  81.000000     2006         1  ...        NaN           NaN   \n",
       "60       2  81.000000     2006         1  ...        1.0           0.0   \n",
       "97       1  52.000000     2004         0  ...        NaN           NaN   \n",
       "98       1  41.000000     2006         0  ...        NaN           NaN   \n",
       "99       1  41.000000     2007         0  ...        NaN           NaN   \n",
       "\n",
       "    CANTAC_DP  CANTAC_SO_DP  CANTAC_AM  CANTAC_CP  CANTAC_CO  suma_cobertura  \\\n",
       "0         NaN           NaN        NaN        NaN        NaN       10000.000   \n",
       "1         0.0           0.0        0.0        0.0        1.0       75000.000   \n",
       "2         NaN           NaN        NaN        NaN        NaN       10000.000   \n",
       "3         NaN           NaN        NaN        NaN        NaN       75000.000   \n",
       "4         NaN           NaN        NaN        NaN        NaN       50000.000   \n",
       "5         1.0           0.0        0.0        0.0        1.0      147057.178   \n",
       "7         NaN           NaN        NaN        NaN        NaN       25000.000   \n",
       "8         NaN           NaN        NaN        NaN        NaN       50000.000   \n",
       "9         1.0           0.0        0.0        0.0        0.0       36149.400   \n",
       "11        NaN           NaN        NaN        NaN        NaN       20000.000   \n",
       "12        NaN           NaN        NaN        NaN        NaN       28366.905   \n",
       "19        NaN           NaN        NaN        NaN        NaN       21000.000   \n",
       "20        NaN           NaN        NaN        NaN        NaN       25000.000   \n",
       "21        NaN           NaN        NaN        NaN        NaN       50000.000   \n",
       "22        NaN           NaN        NaN        NaN        NaN       50000.000   \n",
       "23        NaN           NaN        NaN        NaN        NaN       13219.038   \n",
       "24        NaN           NaN        NaN        NaN        NaN       12180.000   \n",
       "26        NaN           NaN        NaN        NaN        NaN       20000.000   \n",
       "27        1.0           0.0        0.0        0.0        1.0       20000.000   \n",
       "28        1.0           0.0        0.0        0.0        0.0       20000.000   \n",
       "29        NaN           NaN        NaN        NaN        NaN       20000.000   \n",
       "32        NaN           NaN        NaN        NaN        NaN       16800.000   \n",
       "39        NaN           NaN        NaN        NaN        NaN      150000.000   \n",
       "41        1.0           0.0        0.0        0.0        1.0       10249.596   \n",
       "42        NaN           NaN        NaN        NaN        NaN       12600.000   \n",
       "44        NaN           NaN        NaN        NaN        NaN      128287.084   \n",
       "49        NaN           NaN        NaN        NaN        NaN       35000.000   \n",
       "51        NaN           NaN        NaN        NaN        NaN       55000.000   \n",
       "52        NaN           NaN        NaN        NaN        NaN      100000.000   \n",
       "53        NaN           NaN        NaN        NaN        NaN      100000.000   \n",
       "54        NaN           NaN        NaN        NaN        NaN      132935.203   \n",
       "55        0.0           0.0        0.0        0.0        1.0       74360.000   \n",
       "56        NaN           NaN        NaN        NaN        NaN       85000.000   \n",
       "57        NaN           NaN        NaN        NaN        NaN       85000.000   \n",
       "58        NaN           NaN        NaN        NaN        NaN       85000.000   \n",
       "59        NaN           NaN        NaN        NaN        NaN      100000.000   \n",
       "60        1.0           0.0        0.0        0.0        0.0      100000.000   \n",
       "97        NaN           NaN        NaN        NaN        NaN       54784.630   \n",
       "98        NaN           NaN        NaN        NaN        NaN       48139.894   \n",
       "99        NaN           NaN        NaN        NaN        NaN       50717.056   \n",
       "\n",
       "    cluster  suma_reclamos  \n",
       "0         1         0.0000  \n",
       "1         1       302.2407  \n",
       "2         1         0.0000  \n",
       "3         1         0.0000  \n",
       "4         1         0.0000  \n",
       "5         1     14875.1826  \n",
       "7         1         0.0000  \n",
       "8         1         0.0000  \n",
       "9         1       597.3576  \n",
       "11        1         0.0000  \n",
       "12        1         0.0000  \n",
       "19        1         0.0000  \n",
       "20        1         0.0000  \n",
       "21        1         0.0000  \n",
       "22        1         0.0000  \n",
       "23        1         0.0000  \n",
       "24        1         0.0000  \n",
       "26        1         0.0000  \n",
       "27        1      1456.8078  \n",
       "28        1       418.5000  \n",
       "29        1         0.0000  \n",
       "32        1         0.0000  \n",
       "39        1         0.0000  \n",
       "41        1      2878.3779  \n",
       "42        1         0.0000  \n",
       "44        1         0.0000  \n",
       "49        1         0.0000  \n",
       "51        1         0.0000  \n",
       "52        1         0.0000  \n",
       "53        1         0.0000  \n",
       "54        1         0.0000  \n",
       "55        1      1612.7316  \n",
       "56        1         0.0000  \n",
       "57        1         0.0000  \n",
       "58        1         0.0000  \n",
       "59        1         0.0000  \n",
       "60        1       856.8369  \n",
       "97        1         0.0000  \n",
       "98        1         0.0000  \n",
       "99        1         0.0000  \n",
       "\n",
       "[40 rows x 36 columns]"
      ]
     },
     "execution_count": 318,
     "metadata": {},
     "output_type": "execute_result"
    }
   ],
   "source": [
    "df2"
   ]
  },
  {
   "cell_type": "code",
   "execution_count": null,
   "metadata": {},
   "outputs": [],
   "source": []
  }
 ],
 "metadata": {
  "kernelspec": {
   "display_name": "Python 3 (ipykernel)",
   "language": "python",
   "name": "python3"
  },
  "language_info": {
   "codemirror_mode": {
    "name": "ipython",
    "version": 3
   },
   "file_extension": ".py",
   "mimetype": "text/x-python",
   "name": "python",
   "nbconvert_exporter": "python",
   "pygments_lexer": "ipython3",
   "version": "3.10.2"
  },
  "vscode": {
   "interpreter": {
    "hash": "97c55fd4ba1882d0e918d995ffdd112ec3de40cf555632fa49ca7414b44c87f9"
   }
  }
 },
 "nbformat": 4,
 "nbformat_minor": 4
}
